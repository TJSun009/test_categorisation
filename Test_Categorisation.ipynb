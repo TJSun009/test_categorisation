{
  "cells": [
    {
      "cell_type": "markdown",
      "metadata": {
        "id": "view-in-github",
        "colab_type": "text"
      },
      "source": [
        "<a href=\"https://colab.research.google.com/github/TJSun009/test_categorisation/blob/main/Test_Categorisation.ipynb\" target=\"_parent\"><img src=\"https://colab.research.google.com/assets/colab-badge.svg\" alt=\"Open In Colab\"/></a>"
      ]
    },
    {
      "cell_type": "markdown",
      "metadata": {
        "id": "VDK45Gxu6gBE"
      },
      "source": [
        "# Plan"
      ]
    },
    {
      "cell_type": "code",
      "execution_count": null,
      "metadata": {
        "id": "VuTry73ATwWk"
      },
      "outputs": [],
      "source": [
        "# Plan of Action\n",
        "\n",
        "# Source-Test Mapping\n",
        "# Get Graph Representation of Programs\n",
        "# Create a Graph Neural Network Classfier to map src and test graph\n",
        "# (Optional) Enhance graph tokens using GraphCodeBERT, CodeBERT or TREEBERT embeddings\n",
        "\n",
        "# Test Generation\n",
        "# Create a GraphTransformer using Graph Representations and Encoder-Decoder Architecture\n",
        "# Prior Embeddings may be useful\n",
        "# See GraphBERT - https://arxiv.org/abs/2001.05140\n",
        "# Encoder - convert Graph nodes to a node embedding Representation based on surrounding nodes and edges\n",
        "\n",
        "# Use Masked Node Modelling to Mask a Node in the AST and Generate it based on it's connected nodes and edges"
      ]
    },
    {
      "cell_type": "markdown",
      "source": [
        "## Mount Google Drive"
      ],
      "metadata": {
        "id": "ZY6CeElVxyKH"
      }
    },
    {
      "cell_type": "code",
      "source": [
        "!sudo add-apt-repository -y ppa:alessandro-strada/ppa 2>&1 > /dev/null"
      ],
      "metadata": {
        "id": "imIx4bckxknQ"
      },
      "execution_count": null,
      "outputs": []
    },
    {
      "cell_type": "code",
      "source": [
        "!sudo apt remove google-drive-ocamlfuse"
      ],
      "metadata": {
        "colab": {
          "base_uri": "https://localhost:8080/"
        },
        "id": "BVj2GU7YRyBv",
        "outputId": "0742ca48-e596-406f-a267-7b74e6329444"
      },
      "execution_count": 21,
      "outputs": [
        {
          "output_type": "stream",
          "name": "stdout",
          "text": [
            "Reading package lists... Done\n",
            "Building dependency tree       \n",
            "Reading state information... Done\n",
            "The following package was automatically installed and is no longer required:\n",
            "  libnvidia-common-460\n",
            "Use 'sudo apt autoremove' to remove it.\n",
            "The following packages will be REMOVED:\n",
            "  google-drive-ocamlfuse\n",
            "0 upgraded, 0 newly installed, 1 to remove and 27 not upgraded.\n",
            "After this operation, 7,023 kB disk space will be freed.\n",
            "(Reading database ... 124125 files and directories currently installed.)\n",
            "Removing google-drive-ocamlfuse (0.7.27-0ubuntu1~ubuntu18.04.1) ...\n",
            "Processing triggers for man-db (2.8.3-2ubuntu0.1) ...\n"
          ]
        }
      ]
    },
    {
      "cell_type": "code",
      "source": [
        "!sudo apt-get update -qq 2>&1 > /dev/null\n",
        "!sudo apt -y install -qq google-drive-ocamlfuse 2>&1 > /dev/null"
      ],
      "metadata": {
        "colab": {
          "base_uri": "https://localhost:8080/"
        },
        "id": "W0_LS8I6x1lm",
        "outputId": "8ebf03a8-7426-473f-c7a8-221d2099657e"
      },
      "execution_count": null,
      "outputs": [
        {
          "output_type": "stream",
          "name": "stdout",
          "text": [
            "\n",
            "WARNING: apt does not have a stable CLI interface. Use with caution in scripts.\n",
            "\n"
          ]
        }
      ]
    },
    {
      "cell_type": "code",
      "source": [
        "!google-drive-ocamlfuse --help"
      ],
      "metadata": {
        "id": "C6H7j4rfSx5J"
      },
      "execution_count": null,
      "outputs": []
    },
    {
      "cell_type": "code",
      "source": [
        "service_account_path = \"/content/southern-camera-367511-b575499bdaa5.json\"\n",
        "service_account_user = \"colab-gdrive-auth@southern-camera-367511.iam.gserviceaccount.com\"\n",
        "\n",
        "!mkdir /content/drive\n",
        "!google-drive-ocamlfuse -d -serviceaccountpath {service_account_path} -serviceaccountuser {service_account_user} \"/content/drive\""
      ],
      "metadata": {
        "colab": {
          "base_uri": "https://localhost:8080/"
        },
        "id": "M7GY6VEwyMfi",
        "outputId": "f5d454b2-b16e-41ad-d908-b2483a9e82c6"
      },
      "execution_count": 19,
      "outputs": [
        {
          "output_type": "stream",
          "name": "stdout",
          "text": [
            "mkdir: cannot create directory ‘/content/drive’: File exists\n",
            "FUSE library version: 2.9.7\n",
            "nullpath_ok: 0\n",
            "nopath: 0\n",
            "utime_omit_ok: 0\n",
            "unique: 2, opcode: INIT (26), nodeid: 0, insize: 56, pid: 0\n",
            "INIT: 7.32\n",
            "flags=0x03fffffb\n",
            "max_readahead=0x00020000\n",
            "   INIT: 7.19\n",
            "   flags=0x00000031\n",
            "   max_readahead=0x00020000\n",
            "   max_write=0x00020000\n",
            "   max_background=0\n",
            "   congestion_threshold=0\n",
            "   unique: 2, success, outsize: 40\n",
            "unique: 4, opcode: GETATTR (3), nodeid: 1, insize: 56, pid: 81\n",
            "getattr /\n",
            "   unique: 4, success, outsize: 120\n",
            "unique: 6, opcode: ACCESS (34), nodeid: 1, insize: 48, pid: 81\n",
            "   unique: 6, error: -38 (Function not implemented), outsize: 16\n",
            "unique: 8, opcode: GETATTR (3), nodeid: 1, insize: 56, pid: 81\n",
            "getattr /\n",
            "   unique: 8, success, outsize: 120\n",
            "^C\n"
          ]
        }
      ]
    },
    {
      "cell_type": "code",
      "source": [
        "from google.colab import drive\n",
        "drive.mount('/content/drive')"
      ],
      "metadata": {
        "colab": {
          "base_uri": "https://localhost:8080/",
          "height": 330
        },
        "id": "GLrQmNbhYvoO",
        "outputId": "be4c76a3-f6fa-43d3-ba68-0e2d70a0cbf6"
      },
      "execution_count": 20,
      "outputs": [
        {
          "output_type": "error",
          "ename": "NotImplementedError",
          "evalue": "ignored",
          "traceback": [
            "\u001b[0;31m---------------------------------------------------------------------------\u001b[0m",
            "\u001b[0;31mNotImplementedError\u001b[0m                       Traceback (most recent call last)",
            "\u001b[0;32m<ipython-input-20-d5df0069828e>\u001b[0m in \u001b[0;36m<module>\u001b[0;34m\u001b[0m\n\u001b[1;32m      1\u001b[0m \u001b[0;32mfrom\u001b[0m \u001b[0mgoogle\u001b[0m\u001b[0;34m.\u001b[0m\u001b[0mcolab\u001b[0m \u001b[0;32mimport\u001b[0m \u001b[0mdrive\u001b[0m\u001b[0;34m\u001b[0m\u001b[0;34m\u001b[0m\u001b[0m\n\u001b[0;32m----> 2\u001b[0;31m \u001b[0mdrive\u001b[0m\u001b[0;34m.\u001b[0m\u001b[0mmount\u001b[0m\u001b[0;34m(\u001b[0m\u001b[0;34m'/content/drive'\u001b[0m\u001b[0;34m)\u001b[0m\u001b[0;34m\u001b[0m\u001b[0;34m\u001b[0m\u001b[0m\n\u001b[0m",
            "\u001b[0;32m/usr/local/lib/python3.8/dist-packages/google/colab/drive.py\u001b[0m in \u001b[0;36mmount\u001b[0;34m(mountpoint, force_remount, timeout_ms, readonly)\u001b[0m\n\u001b[1;32m     99\u001b[0m \u001b[0;32mdef\u001b[0m \u001b[0mmount\u001b[0m\u001b[0;34m(\u001b[0m\u001b[0mmountpoint\u001b[0m\u001b[0;34m,\u001b[0m \u001b[0mforce_remount\u001b[0m\u001b[0;34m=\u001b[0m\u001b[0;32mFalse\u001b[0m\u001b[0;34m,\u001b[0m \u001b[0mtimeout_ms\u001b[0m\u001b[0;34m=\u001b[0m\u001b[0;36m120000\u001b[0m\u001b[0;34m,\u001b[0m \u001b[0mreadonly\u001b[0m\u001b[0;34m=\u001b[0m\u001b[0;32mFalse\u001b[0m\u001b[0;34m)\u001b[0m\u001b[0;34m:\u001b[0m\u001b[0;34m\u001b[0m\u001b[0;34m\u001b[0m\u001b[0m\n\u001b[1;32m    100\u001b[0m   \u001b[0;34m\"\"\"Mount your Google Drive at the specified mountpoint path.\"\"\"\u001b[0m\u001b[0;34m\u001b[0m\u001b[0;34m\u001b[0m\u001b[0m\n\u001b[0;32m--> 101\u001b[0;31m   return _mount(\n\u001b[0m\u001b[1;32m    102\u001b[0m       \u001b[0mmountpoint\u001b[0m\u001b[0;34m,\u001b[0m\u001b[0;34m\u001b[0m\u001b[0;34m\u001b[0m\u001b[0m\n\u001b[1;32m    103\u001b[0m       \u001b[0mforce_remount\u001b[0m\u001b[0;34m=\u001b[0m\u001b[0mforce_remount\u001b[0m\u001b[0;34m,\u001b[0m\u001b[0;34m\u001b[0m\u001b[0;34m\u001b[0m\u001b[0m\n",
            "\u001b[0;32m/usr/local/lib/python3.8/dist-packages/google/colab/drive.py\u001b[0m in \u001b[0;36m_mount\u001b[0;34m(mountpoint, force_remount, timeout_ms, ephemeral, readonly)\u001b[0m\n\u001b[1;32m    114\u001b[0m   \u001b[0;34m\"\"\"Internal helper to mount Google Drive.\"\"\"\u001b[0m\u001b[0;34m\u001b[0m\u001b[0;34m\u001b[0m\u001b[0m\n\u001b[1;32m    115\u001b[0m   \u001b[0;32mif\u001b[0m \u001b[0m_os\u001b[0m\u001b[0;34m.\u001b[0m\u001b[0mpath\u001b[0m\u001b[0;34m.\u001b[0m\u001b[0mexists\u001b[0m\u001b[0;34m(\u001b[0m\u001b[0;34m'/var/colab/mp'\u001b[0m\u001b[0;34m)\u001b[0m\u001b[0;34m:\u001b[0m\u001b[0;34m\u001b[0m\u001b[0;34m\u001b[0m\u001b[0m\n\u001b[0;32m--> 116\u001b[0;31m     \u001b[0;32mraise\u001b[0m \u001b[0mNotImplementedError\u001b[0m\u001b[0;34m(\u001b[0m\u001b[0m__name__\u001b[0m \u001b[0;34m+\u001b[0m \u001b[0;34m' is unsupported in this environment.'\u001b[0m\u001b[0;34m)\u001b[0m\u001b[0;34m\u001b[0m\u001b[0;34m\u001b[0m\u001b[0m\n\u001b[0m\u001b[1;32m    117\u001b[0m \u001b[0;34m\u001b[0m\u001b[0m\n\u001b[1;32m    118\u001b[0m   \u001b[0;32mif\u001b[0m \u001b[0;34m' '\u001b[0m \u001b[0;32min\u001b[0m \u001b[0mmountpoint\u001b[0m\u001b[0;34m:\u001b[0m\u001b[0;34m\u001b[0m\u001b[0;34m\u001b[0m\u001b[0m\n",
            "\u001b[0;31mNotImplementedError\u001b[0m: google.colab.drive is unsupported in this environment."
          ]
        }
      ]
    },
    {
      "cell_type": "code",
      "source": [
        "!google-drive-ocamlfuse "
      ],
      "metadata": {
        "colab": {
          "base_uri": "https://localhost:8080/"
        },
        "id": "trAYB8xUJt-o",
        "outputId": "831c25ee-bf25-4974-8bd7-b5d8f3342eed"
      },
      "execution_count": null,
      "outputs": [
        {
          "output_type": "stream",
          "name": "stdout",
          "text": [
            "Starting application setup (label=default, base_dir=).\n",
            "[0.000074] TID=0: Loading configuration from /root/.gdfuse/default/config...done\n",
            "Opening log file: /root/.gdfuse/default/gdfuse.log\n"
          ]
        }
      ]
    },
    {
      "cell_type": "code",
      "source": [
        "!xdg-settings set default-web-browser google-chrome.desktop # to set default browser"
      ],
      "metadata": {
        "id": "WKHGo_mhKoqh"
      },
      "execution_count": null,
      "outputs": []
    },
    {
      "cell_type": "code",
      "source": [
        "!sudo apt-get install -qq w3m # to act as web browser \n",
        "!xdg-settings set default-web-browser w3m.desktop # to set default browser\n",
        "!mkdir /content/drive\n",
        "!google-drive-ocamlfuse /content/drive"
      ],
      "metadata": {
        "colab": {
          "base_uri": "https://localhost:8080/"
        },
        "id": "-fivUHMRJNQQ",
        "outputId": "580e151b-a7f8-4144-fdc8-0daf62387135"
      },
      "execution_count": null,
      "outputs": [
        {
          "output_type": "stream",
          "name": "stdout",
          "text": [
            "xdg-settings: invalid application name\n",
            "Try 'xdg-settings --help' for more information.\n",
            "mkdir: cannot create directory ‘/content/drive’: File exists\n",
            "^C\n"
          ]
        }
      ]
    },
    {
      "cell_type": "code",
      "source": [
        "!ls /content/drive/"
      ],
      "metadata": {
        "id": "gkpXU73G__zM"
      },
      "execution_count": null,
      "outputs": []
    },
    {
      "cell_type": "code",
      "source": [
        "!rm -r /content/drive"
      ],
      "metadata": {
        "id": "bjtdfaYeMbT_"
      },
      "execution_count": null,
      "outputs": []
    },
    {
      "cell_type": "code",
      "source": [
        "!rm -r ~/.gdfuse"
      ],
      "metadata": {
        "id": "DIXLxxgTLoRe"
      },
      "execution_count": null,
      "outputs": []
    },
    {
      "cell_type": "code",
      "source": [
        "!fusermount -u /content/drive"
      ],
      "metadata": {
        "id": "_ZgeJ7avAQRE"
      },
      "execution_count": null,
      "outputs": []
    },
    {
      "cell_type": "markdown",
      "source": [
        "## Local/Remote Environment"
      ],
      "metadata": {
        "id": "AyIAbLtHGkug"
      }
    },
    {
      "cell_type": "code",
      "source": [
        "import sys\n",
        "\n",
        "DIR_PREFIX = \"/content/drive/MyDrive/\" if 'google.colab' in sys.modules else \"/mnt/g/My Drive/\"\n",
        "\n",
        "if 'google.colab' not in sys.modules:\n",
        "  SUDO = getpass(\"Enter your Sudo Password: \")"
      ],
      "metadata": {
        "colab": {
          "base_uri": "https://localhost:8080/",
          "height": 348
        },
        "id": "1P83iNxxNYmD",
        "outputId": "10577ca8-4c1e-4963-b791-76d8086b50c7"
      },
      "execution_count": null,
      "outputs": [
        {
          "output_type": "error",
          "ename": "NotImplementedError",
          "evalue": "ignored",
          "traceback": [
            "\u001b[0;31m---------------------------------------------------------------------------\u001b[0m",
            "\u001b[0;31mNotImplementedError\u001b[0m                       Traceback (most recent call last)",
            "\u001b[0;32m<ipython-input-11-b23f7fcbe623>\u001b[0m in \u001b[0;36m<module>\u001b[0;34m\u001b[0m\n\u001b[1;32m      8\u001b[0m \u001b[0;32melse\u001b[0m\u001b[0;34m:\u001b[0m\u001b[0;34m\u001b[0m\u001b[0;34m\u001b[0m\u001b[0m\n\u001b[1;32m      9\u001b[0m   \u001b[0;32mfrom\u001b[0m \u001b[0mgoogle\u001b[0m\u001b[0;34m.\u001b[0m\u001b[0mcolab\u001b[0m \u001b[0;32mimport\u001b[0m \u001b[0mdrive\u001b[0m\u001b[0;34m\u001b[0m\u001b[0;34m\u001b[0m\u001b[0m\n\u001b[0;32m---> 10\u001b[0;31m   \u001b[0mdrive\u001b[0m\u001b[0;34m.\u001b[0m\u001b[0mmount\u001b[0m\u001b[0;34m(\u001b[0m\u001b[0;34m'/content/drive'\u001b[0m\u001b[0;34m)\u001b[0m\u001b[0;34m\u001b[0m\u001b[0;34m\u001b[0m\u001b[0m\n\u001b[0m",
            "\u001b[0;32m/usr/local/lib/python3.8/dist-packages/google/colab/drive.py\u001b[0m in \u001b[0;36mmount\u001b[0;34m(mountpoint, force_remount, timeout_ms, readonly)\u001b[0m\n\u001b[1;32m     99\u001b[0m \u001b[0;32mdef\u001b[0m \u001b[0mmount\u001b[0m\u001b[0;34m(\u001b[0m\u001b[0mmountpoint\u001b[0m\u001b[0;34m,\u001b[0m \u001b[0mforce_remount\u001b[0m\u001b[0;34m=\u001b[0m\u001b[0;32mFalse\u001b[0m\u001b[0;34m,\u001b[0m \u001b[0mtimeout_ms\u001b[0m\u001b[0;34m=\u001b[0m\u001b[0;36m120000\u001b[0m\u001b[0;34m,\u001b[0m \u001b[0mreadonly\u001b[0m\u001b[0;34m=\u001b[0m\u001b[0;32mFalse\u001b[0m\u001b[0;34m)\u001b[0m\u001b[0;34m:\u001b[0m\u001b[0;34m\u001b[0m\u001b[0;34m\u001b[0m\u001b[0m\n\u001b[1;32m    100\u001b[0m   \u001b[0;34m\"\"\"Mount your Google Drive at the specified mountpoint path.\"\"\"\u001b[0m\u001b[0;34m\u001b[0m\u001b[0;34m\u001b[0m\u001b[0m\n\u001b[0;32m--> 101\u001b[0;31m   return _mount(\n\u001b[0m\u001b[1;32m    102\u001b[0m       \u001b[0mmountpoint\u001b[0m\u001b[0;34m,\u001b[0m\u001b[0;34m\u001b[0m\u001b[0;34m\u001b[0m\u001b[0m\n\u001b[1;32m    103\u001b[0m       \u001b[0mforce_remount\u001b[0m\u001b[0;34m=\u001b[0m\u001b[0mforce_remount\u001b[0m\u001b[0;34m,\u001b[0m\u001b[0;34m\u001b[0m\u001b[0;34m\u001b[0m\u001b[0m\n",
            "\u001b[0;32m/usr/local/lib/python3.8/dist-packages/google/colab/drive.py\u001b[0m in \u001b[0;36m_mount\u001b[0;34m(mountpoint, force_remount, timeout_ms, ephemeral, readonly)\u001b[0m\n\u001b[1;32m    114\u001b[0m   \u001b[0;34m\"\"\"Internal helper to mount Google Drive.\"\"\"\u001b[0m\u001b[0;34m\u001b[0m\u001b[0;34m\u001b[0m\u001b[0m\n\u001b[1;32m    115\u001b[0m   \u001b[0;32mif\u001b[0m \u001b[0m_os\u001b[0m\u001b[0;34m.\u001b[0m\u001b[0mpath\u001b[0m\u001b[0;34m.\u001b[0m\u001b[0mexists\u001b[0m\u001b[0;34m(\u001b[0m\u001b[0;34m'/var/colab/mp'\u001b[0m\u001b[0;34m)\u001b[0m\u001b[0;34m:\u001b[0m\u001b[0;34m\u001b[0m\u001b[0;34m\u001b[0m\u001b[0m\n\u001b[0;32m--> 116\u001b[0;31m     \u001b[0;32mraise\u001b[0m \u001b[0mNotImplementedError\u001b[0m\u001b[0;34m(\u001b[0m\u001b[0m__name__\u001b[0m \u001b[0;34m+\u001b[0m \u001b[0;34m' is unsupported in this environment.'\u001b[0m\u001b[0;34m)\u001b[0m\u001b[0;34m\u001b[0m\u001b[0;34m\u001b[0m\u001b[0m\n\u001b[0m\u001b[1;32m    117\u001b[0m \u001b[0;34m\u001b[0m\u001b[0m\n\u001b[1;32m    118\u001b[0m   \u001b[0;32mif\u001b[0m \u001b[0;34m' '\u001b[0m \u001b[0;32min\u001b[0m \u001b[0mmountpoint\u001b[0m\u001b[0;34m:\u001b[0m\u001b[0;34m\u001b[0m\u001b[0;34m\u001b[0m\u001b[0m\n",
            "\u001b[0;31mNotImplementedError\u001b[0m: google.colab.drive is unsupported in this environment."
          ]
        }
      ]
    },
    {
      "cell_type": "markdown",
      "source": [
        "# neptune.ai Integration"
      ],
      "metadata": {
        "id": "d0CbMz5aqAgR"
      }
    },
    {
      "cell_type": "code",
      "source": [
        "! pip install -Uqqq neptune-client\n",
        "import neptune.new as neptune\n",
        "\n",
        "neptune_api_token = getpass(\"Enter your Neptune API token: \")\n",
        "\n",
        "project = \"tjsun009/test-src-classifier\"\n",
        "\n",
        "run = neptune.init_run(\n",
        "    api_token=neptune_api_token,\n",
        "    project=project,\n",
        ")"
      ],
      "metadata": {
        "colab": {
          "base_uri": "https://localhost:8080/"
        },
        "id": "GC8TnzX8qJ0A",
        "outputId": "43be4368-b15d-4d8d-bba3-0ae0ad82f350"
      },
      "execution_count": null,
      "outputs": [
        {
          "output_type": "stream",
          "name": "stderr",
          "text": [
            "\n",
            "KeyboardInterrupt\n",
            "\n"
          ]
        }
      ]
    },
    {
      "cell_type": "markdown",
      "metadata": {
        "id": "AjHpv5AIgsJ6"
      },
      "source": [
        "# Source-Test Mapping"
      ]
    },
    {
      "cell_type": "code",
      "execution_count": null,
      "metadata": {
        "colab": {
          "base_uri": "https://localhost:8080/"
        },
        "id": "eiDQAGIjk1ee",
        "outputId": "2318c391-6671-4c57-c34b-8d1012ad34f8"
      },
      "outputs": [
        {
          "output_type": "stream",
          "name": "stdout",
          "text": [
            "\u001b[K     |████████████████████████████████| 34.5 MB 163.3 MB/s \n",
            "\u001b[?25h"
          ]
        }
      ],
      "source": [
        "! pip install -Uqqq scipy networkx"
      ]
    },
    {
      "cell_type": "markdown",
      "metadata": {
        "id": "bgjOkMrriB-Q"
      },
      "source": [
        "## Import libraries"
      ]
    },
    {
      "cell_type": "code",
      "execution_count": null,
      "metadata": {
        "id": "NUjrG3-fDDcX"
      },
      "outputs": [],
      "source": [
        "import os\n",
        "import numpy as np\n",
        "import networkx as nx\n",
        "import matplotlib.pyplot as plt\n",
        "# import tensorflow as tf\n",
        "# from tensorflow import keras\n",
        "# from tensorflow.keras import layers\n",
        "# import pandas as pd\n",
        "import networkx as nx\n",
        "from glob import iglob\n",
        "import importlib"
      ]
    },
    {
      "cell_type": "markdown",
      "metadata": {
        "id": "NGiAvVTs535v"
      },
      "source": [
        "### python-graphs dependency"
      ]
    },
    {
      "cell_type": "code",
      "execution_count": null,
      "metadata": {
        "id": "5r31L5nnSeL-",
        "colab": {
          "base_uri": "https://localhost:8080/"
        },
        "outputId": "a7ba7465-c85a-42f9-93c4-74447db4c32b"
      },
      "outputs": [
        {
          "output_type": "stream",
          "name": "stdout",
          "text": [
            "debconf: unable to initialize frontend: Dialog\n",
            "debconf: (No usable dialog-like program is installed, so the dialog based frontend cannot be used. at /usr/share/perl5/Debconf/FrontEnd/Dialog.pm line 76, <> line 8.)\n",
            "debconf: falling back to frontend: Readline\n",
            "debconf: unable to initialize frontend: Readline\n",
            "debconf: (This frontend requires a controlling tty.)\n",
            "debconf: falling back to frontend: Teletype\n",
            "dpkg-preconfigure: unable to re-open stdin: \n",
            "Selecting previously unselected package libgtk2.0-common.\n",
            "(Reading database ... 124016 files and directories currently installed.)\n",
            "Preparing to unpack .../0-libgtk2.0-common_2.24.32-1ubuntu1_all.deb ...\n",
            "Unpacking libgtk2.0-common (2.24.32-1ubuntu1) ...\n",
            "Selecting previously unselected package libgtk2.0-0:amd64.\n",
            "Preparing to unpack .../1-libgtk2.0-0_2.24.32-1ubuntu1_amd64.deb ...\n",
            "Unpacking libgtk2.0-0:amd64 (2.24.32-1ubuntu1) ...\n",
            "Selecting previously unselected package libgail18:amd64.\n",
            "Preparing to unpack .../2-libgail18_2.24.32-1ubuntu1_amd64.deb ...\n",
            "Unpacking libgail18:amd64 (2.24.32-1ubuntu1) ...\n",
            "Selecting previously unselected package libgail-common:amd64.\n",
            "Preparing to unpack .../3-libgail-common_2.24.32-1ubuntu1_amd64.deb ...\n",
            "Unpacking libgail-common:amd64 (2.24.32-1ubuntu1) ...\n",
            "Selecting previously unselected package libxdot4.\n",
            "Preparing to unpack .../4-libxdot4_2.40.1-2_amd64.deb ...\n",
            "Unpacking libxdot4 (2.40.1-2) ...\n",
            "Selecting previously unselected package libgvc6-plugins-gtk.\n",
            "Preparing to unpack .../5-libgvc6-plugins-gtk_2.40.1-2_amd64.deb ...\n",
            "Unpacking libgvc6-plugins-gtk (2.40.1-2) ...\n",
            "Selecting previously unselected package libgraphviz-dev.\n",
            "Preparing to unpack .../6-libgraphviz-dev_2.40.1-2_amd64.deb ...\n",
            "Unpacking libgraphviz-dev (2.40.1-2) ...\n",
            "Selecting previously unselected package libgtk2.0-bin.\n",
            "Preparing to unpack .../7-libgtk2.0-bin_2.24.32-1ubuntu1_amd64.deb ...\n",
            "Unpacking libgtk2.0-bin (2.24.32-1ubuntu1) ...\n",
            "Setting up libgtk2.0-common (2.24.32-1ubuntu1) ...\n",
            "Setting up libxdot4 (2.40.1-2) ...\n",
            "Setting up libgtk2.0-0:amd64 (2.24.32-1ubuntu1) ...\n",
            "Setting up libgail18:amd64 (2.24.32-1ubuntu1) ...\n",
            "Setting up libgail-common:amd64 (2.24.32-1ubuntu1) ...\n",
            "Setting up libgvc6-plugins-gtk (2.40.1-2) ...\n",
            "Setting up libgraphviz-dev (2.40.1-2) ...\n",
            "Setting up libgtk2.0-bin (2.24.32-1ubuntu1) ...\n",
            "Processing triggers for man-db (2.8.3-2ubuntu0.1) ...\n",
            "Processing triggers for libc-bin (2.27-3ubuntu1.6) ...\n",
            "\u001b[K     |████████████████████████████████| 44 kB 1.9 MB/s \n",
            "\u001b[K     |████████████████████████████████| 120 kB 11.9 MB/s \n",
            "\u001b[?25h  Building wheel for python-graphs (setup.py) ... \u001b[?25l\u001b[?25hdone\n",
            "  Building wheel for pygraphviz (setup.py) ... \u001b[?25l\u001b[?25hdone\n",
            "\u001b[31mERROR: pip's dependency resolver does not currently take into account all the packages that are installed. This behaviour is the source of the following dependency conflicts.\n",
            "tensorflow 2.9.2 requires gast<=0.4.0,>=0.2.1, but you have gast 0.5.3 which is incompatible.\u001b[0m\n"
          ]
        }
      ],
      "source": [
        "# New Graph Generator Approach\n",
        "# https://arxiv.org/pdf/2208.07461v1.pdf\n",
        "\n",
        "# install python-graphs on startup\n",
        "! echo {SUDO} | sudo -S apt-get -qq -y install graphviz graphviz-dev\n",
        "! pip install -Uqqq python-graphs gast"
      ]
    },
    {
      "cell_type": "markdown",
      "metadata": {
        "id": "6h3hDQAKiSK2"
      },
      "source": [
        "#### Understanding python-graphs Representation"
      ]
    },
    {
      "cell_type": "code",
      "execution_count": null,
      "metadata": {
        "id": "cr7lEAu3FlxE"
      },
      "outputs": [],
      "source": [
        "# import gast as ast\n",
        "# from python_graphs import program_graph\n",
        "\n",
        "# # example file\n",
        "# file_path = DIR_PREFIX + \"Year 3/Dissertation/Projects/Datasets/data/minified/src/unittest_utils.py\"\n",
        "\n",
        "# with open(file_path, \"r\") as f:\n",
        "#   # graph = program_graph.get_program_graph(f.read())\n",
        "  \n",
        "#   # read ast head\n",
        "#   graph = program_graph.get_program_graph(ast.parse(f.read()))"
      ]
    },
    {
      "cell_type": "code",
      "execution_count": null,
      "metadata": {
        "id": "-kauehBVaem2"
      },
      "outputs": [],
      "source": [
        "# # nodes are stored in a dictionary representing a key-value pair of the node id and node itself\n",
        "# example_node_dict = graph.nodes\n",
        "\n",
        "# # nodes are represented as strings by joining the node id and node ast_type if it has one \n",
        "# example_node_dict_item = list(example_node_dict.items())[0]\n",
        "\n",
        "# # item 0 is the node id and item 1 the node representation\n",
        "# example_node_dict_item"
      ]
    },
    {
      "cell_type": "code",
      "execution_count": null,
      "metadata": {
        "id": "kgwVVv1JfKd2"
      },
      "outputs": [],
      "source": [
        "# # as above the node is the value\n",
        "# example_node = example_node_dict_item[1]\n",
        "\n",
        "# # we can view the nodes properties as well\n",
        "# # the ast_value is of particular interest as well for retrieving tokens\n",
        "# # not all nodes will have a value though\n",
        "# print(example_node.__dict__)\n",
        "# print(example_node.__dict__[\"ast_node\"].__dict__)"
      ]
    },
    {
      "cell_type": "code",
      "execution_count": null,
      "metadata": {
        "id": "i_9j7z6PFNY8"
      },
      "outputs": [],
      "source": [
        "# # show what ast_values look like\n",
        "# nodes = list(graph.all_nodes())\n",
        "\n",
        "# node_values = []\n",
        "# for node in nodes:\n",
        "#   if node.ast_value:\n",
        "#     node_values.append(node.ast_value)\n",
        "# # some ast_values are long strings so will need subtokens which can be combined\n",
        "# # may require CodeBERT embeddings\n",
        "# node_values"
      ]
    },
    {
      "cell_type": "code",
      "execution_count": null,
      "metadata": {
        "id": "NFxwIA9jCZc_"
      },
      "outputs": [],
      "source": [
        "# # check edge\n",
        "# example_edge = graph.edges[0]\n",
        "# example_edge"
      ]
    },
    {
      "cell_type": "markdown",
      "metadata": {
        "id": "y1fREN-3ktCY"
      },
      "source": [
        "### CodeBERT dependency"
      ]
    },
    {
      "cell_type": "code",
      "execution_count": null,
      "metadata": {
        "id": "_w0I1cLCVrUb",
        "colab": {
          "base_uri": "https://localhost:8080/"
        },
        "outputId": "fe9f14c2-4cf4-42a5-e3ed-fedfb5e77daa"
      },
      "outputs": [
        {
          "output_type": "stream",
          "name": "stdout",
          "text": [
            "\u001b[K     |████████████████████████████████| 5.8 MB 6.2 MB/s \n",
            "\u001b[K     |████████████████████████████████| 7.6 MB 87.1 MB/s \n",
            "\u001b[K     |████████████████████████████████| 182 kB 106.3 MB/s \n",
            "\u001b[?25h"
          ]
        }
      ],
      "source": [
        "# imports for tokenising code values\n",
        "! pip install -Uqqq transformers"
      ]
    },
    {
      "cell_type": "markdown",
      "metadata": {
        "id": "D3ThqF6zVgR_"
      },
      "source": [
        "#### Investigating CodeBERT Tokeniser for code"
      ]
    },
    {
      "cell_type": "code",
      "source": [
        "# from transformers import AutoTokenizer, AutoModel\n",
        "# import torch\n",
        "# tokenizer = AutoTokenizer.from_pretrained(\"microsoft/codebert-base\")\n",
        "# model = AutoModel.from_pretrained(\"microsoft/codebert-base\")"
      ],
      "metadata": {
        "id": "MDTIheOElCdZ"
      },
      "execution_count": null,
      "outputs": []
    },
    {
      "cell_type": "code",
      "execution_count": null,
      "metadata": {
        "id": "BhXA4pwkc-B9"
      },
      "outputs": [],
      "source": [
        "# # join node values into single string\n",
        "# code = (' ').join([str(val) for val in node_values])\n",
        "# # code\n",
        "# code_tokens = tokenizer.tokenize(code)\n",
        "# # code_tokens\n",
        "# tokens = [tokenizer.cls_token] + code_tokens + [tokenizer.sep_token]\n",
        "# # tokens\n",
        "# tokens_ids = tokenizer.convert_tokens_to_ids(tokens)\n",
        "\n",
        "# # this is the final output from the model\n",
        "# # it consists of 1 vector for each token across 768 distinct features \n",
        "# context_embeddings = model(torch.tensor(tokens_ids)[None,:])[0]\n",
        "# # context_embeddings.shape\n",
        "# len(code_tokens), context_embeddings.shape\n",
        "\n",
        "# # in the graph embedding the node values could be represented as each value padded\n",
        "# # by N others on either side, N would be calibrated for best results"
      ]
    },
    {
      "cell_type": "markdown",
      "metadata": {
        "id": "LJq3_r9jFem7"
      },
      "source": [
        "## Prepare Dataset\n",
        "\n",
        "produces graph_list (list of python_graphs)"
      ]
    },
    {
      "cell_type": "code",
      "execution_count": null,
      "metadata": {
        "id": "pJy8aIye_hMm"
      },
      "outputs": [],
      "source": [
        "CODE_MINI_DIR = DIR_PREFIX + \"Year 3/Dissertation/Projects/Datasets/data/minified\"\n",
        "CODE_LARGE_DIR = DIR_PREFIX + \"Year 3/Dissertation/Projects/Datasets/data/large\"\n",
        "CODE_DIR = CODE_MINI_DIR"
      ]
    },
    {
      "cell_type": "code",
      "execution_count": null,
      "metadata": {
        "id": "Yw3GuC2QCiIr"
      },
      "outputs": [],
      "source": [
        "# adapted from typilus for monitoring\n",
        "class Monitoring:\n",
        "    def __init__(self):\n",
        "        self.count = 0  # type: int\n",
        "        self.errors = []\n",
        "        self.file = \"\"  # type: str\n",
        "        self.empty_files = []\n",
        "\n",
        "    def increment_count(self) -> None:\n",
        "        self.count += 1\n",
        "\n",
        "    def found_error(self, err, trace) -> None:\n",
        "        self.errors.append([self.file, err, trace])\n",
        "\n",
        "    def enter_file(self, filename: str) -> None:\n",
        "        self.file = filename"
      ]
    },
    {
      "cell_type": "code",
      "execution_count": null,
      "metadata": {
        "id": "M68kdXVzCq1D"
      },
      "outputs": [],
      "source": [
        "# adapted from typilus for generating graphs with python_graphs\n",
        "\n",
        "from typing import Tuple, List, Optional, Set, Iterator\n",
        "from python_graphs import program_graph\n",
        "\n",
        "# TODO progress bar\n",
        "# from tqdm.notebook import tqdm_notebook\n",
        "\n",
        "\n",
        "# needed to use gast opposed to standard ast\n",
        "import gast, ast\n",
        "# importlib.reload(gast)\n",
        "def explore_files(root_dir: str, monitoring: Monitoring) -> Iterator[Tuple]:\n",
        "    \"\"\"\n",
        "    Walks through the root_dir and process each file.\n",
        "    \"\"\"\n",
        "    for file_path in iglob(os.path.join(root_dir, '**', '*.py'), recursive=True):\n",
        "        file_name = file_path.split('/').pop()\n",
        "        if not os.path.isfile(file_path):\n",
        "            continue\n",
        "        # print(file_path)\n",
        "        with open(file_path, encoding=\"utf-8\", errors='ignore') as f:\n",
        "            monitoring.increment_count()\n",
        "            monitoring.enter_file(file_path)\n",
        "            \n",
        "            # difficulty parsing some files so had to be skipped\n",
        "            try:\n",
        "              graph = program_graph.get_program_graph(gast.parse(f.read()))\n",
        "              \n",
        "              # identify graph by file_name\n",
        "              graph.filename = file_path[len(root_dir):]\n",
        "              \n",
        "              yield graph\n",
        "            except:\n",
        "              continue"
      ]
    },
    {
      "cell_type": "code",
      "execution_count": null,
      "metadata": {
        "id": "I5m3vcJhENT7"
      },
      "outputs": [],
      "source": [
        "! pip install -Uqqq dill\n",
        "import dill as pickle\n",
        "# handle saving of graphs\n",
        "def save_graphs(graph_list, dir = CODE_DIR):\n",
        "  graph_dir = os.path.join(dir, \"graphs\", \"\")\n",
        "  \n",
        "  if not os.path.exists(graph_dir):\n",
        "    os.makedirs(graph_dir)\n",
        "  \n",
        "  file = os.path.join(graph_dir, \"graphs.pickle\")\n",
        "\n",
        "  pickle.dump(graph_list, open(file, \"wb\"), protocol = pickle.HIGHEST_PROTOCOL)\n",
        "\n",
        "  return file"
      ]
    },
    {
      "cell_type": "code",
      "execution_count": null,
      "metadata": {
        "id": "AYzymFsPME16",
        "colab": {
          "base_uri": "https://localhost:8080/",
          "height": 237
        },
        "outputId": "f2fc292a-9c7c-4508-b6a8-9b547f7a2d32"
      },
      "outputs": [
        {
          "output_type": "error",
          "ename": "NameError",
          "evalue": "ignored",
          "traceback": [
            "\u001b[0;31m---------------------------------------------------------------------------\u001b[0m",
            "\u001b[0;31mNameError\u001b[0m                                 Traceback (most recent call last)",
            "\u001b[0;32m<ipython-input-10-7ddc31d5ba52>\u001b[0m in \u001b[0;36m<module>\u001b[0;34m\u001b[0m\n\u001b[1;32m      1\u001b[0m \u001b[0mgraph_list\u001b[0m \u001b[0;34m=\u001b[0m \u001b[0;34m[\u001b[0m\u001b[0;34m]\u001b[0m\u001b[0;34m\u001b[0m\u001b[0;34m\u001b[0m\u001b[0m\n\u001b[1;32m      2\u001b[0m \u001b[0;32mif\u001b[0m \u001b[0;32mnot\u001b[0m \u001b[0mos\u001b[0m\u001b[0;34m.\u001b[0m\u001b[0mpath\u001b[0m\u001b[0;34m.\u001b[0m\u001b[0mexists\u001b[0m\u001b[0;34m(\u001b[0m\u001b[0mos\u001b[0m\u001b[0;34m.\u001b[0m\u001b[0mpath\u001b[0m\u001b[0;34m.\u001b[0m\u001b[0mjoin\u001b[0m\u001b[0;34m(\u001b[0m\u001b[0mCODE_DIR\u001b[0m\u001b[0;34m,\u001b[0m \u001b[0;34m\"graphs\"\u001b[0m\u001b[0;34m,\u001b[0m \u001b[0;34m\"graphs.pickle\"\u001b[0m\u001b[0;34m)\u001b[0m\u001b[0;34m)\u001b[0m\u001b[0;34m:\u001b[0m\u001b[0;34m\u001b[0m\u001b[0;34m\u001b[0m\u001b[0m\n\u001b[0;32m----> 3\u001b[0;31m   \u001b[0mgraph_list\u001b[0m \u001b[0;34m=\u001b[0m \u001b[0;34m[\u001b[0m\u001b[0mgraph\u001b[0m \u001b[0;32mfor\u001b[0m \u001b[0mgraph\u001b[0m \u001b[0;32min\u001b[0m \u001b[0moutputs\u001b[0m\u001b[0;34m]\u001b[0m\u001b[0;34m\u001b[0m\u001b[0;34m\u001b[0m\u001b[0m\n\u001b[0m\u001b[1;32m      4\u001b[0m   \u001b[0moutputs\u001b[0m \u001b[0;34m=\u001b[0m \u001b[0mexplore_files\u001b[0m\u001b[0;34m(\u001b[0m\u001b[0mCODE_DIR\u001b[0m\u001b[0;34m,\u001b[0m \u001b[0mmonitoring\u001b[0m\u001b[0;34m)\u001b[0m\u001b[0;34m\u001b[0m\u001b[0;34m\u001b[0m\u001b[0m\n\u001b[1;32m      5\u001b[0m   \u001b[0mmonitoring\u001b[0m \u001b[0;34m=\u001b[0m \u001b[0mMonitoring\u001b[0m\u001b[0;34m(\u001b[0m\u001b[0;34m)\u001b[0m\u001b[0;34m\u001b[0m\u001b[0;34m\u001b[0m\u001b[0m\n",
            "\u001b[0;31mNameError\u001b[0m: name 'outputs' is not defined"
          ]
        }
      ],
      "source": [
        "graph_list = []\n",
        "if not os.path.exists(os.path.join(CODE_DIR, \"graphs\", \"graphs.pickle\")):\n",
        "  outputs = explore_files(CODE_DIR, monitoring)\n",
        "  graph_list = [graph for graph in outputs]\n",
        "  monitoring = Monitoring()\n",
        "  save_graphs(graph_list)\n",
        "  del(outputs)\n",
        "  del(monitoring)\n",
        "else:\n",
        "  graph_list = pickle.load(open(os.path.join(CODE_DIR, \"graphs\", \"graphs.pickle\"), \"rb\"))"
      ]
    },
    {
      "cell_type": "markdown",
      "metadata": {
        "id": "h7jOhrQzPO-i"
      },
      "source": [
        "## Feed Data to Graph Network"
      ]
    },
    {
      "cell_type": "markdown",
      "metadata": {
        "id": "ILzKE0s9F_gU"
      },
      "source": [
        "### Creating CodeGraph Class\n",
        "\n",
        "This class makes use of networkx a popular graph representation library"
      ]
    },
    {
      "cell_type": "markdown",
      "source": [
        "#### Imports"
      ],
      "metadata": {
        "id": "XYDzw1GVdjKe"
      }
    },
    {
      "cell_type": "code",
      "execution_count": null,
      "metadata": {
        "id": "1DFjEdSGF-ma",
        "colab": {
          "base_uri": "https://localhost:8080/",
          "referenced_widgets": [
            "5de7b513c75f4792a5e99bc45005eb53",
            "4a108d64a7574122b7dd8c345162889d",
            "30a276118cd3451685198d9989bab156",
            "48fdcf514f4f4accbd240d22d2f152b9",
            "0ca286058bf248ea90b7c11d42948b12",
            "898cb31e0d694c3b9c45b208af528ae2",
            "1cf7fe18a556477ab810b1b0ec7d2d69",
            "9b86ddd254b44fad942c132b4f7cd8be",
            "3cedb18321d04398b33ac33d230b5c34",
            "55aa80407e7a463da310d40d54befbd7",
            "d5d83101b4a14a33911bdd0a667142fc",
            "ee7e0e9d51ce43018575e3dfa74121ff",
            "f0352f52880c44a687a14171bb01bffd",
            "f0602ac437364fbb95f0206b3c19c9c0",
            "36bf2c1f9053493aad7456639d8036f8",
            "a117db2ab42c44fab8511dc8de6edaa7",
            "8b2ebfcf1efb4b0a9cd3b4af3a90fcc1",
            "f53d305edf8b4cc285d286ffc557ee6f",
            "2d794210dc0a4b8382662b857c362728",
            "b42033dc7d434b3e8b8071e8fc60e79c",
            "e668a3635f2a4243a46881bd8b496527",
            "cb17e877acd94d19abf87317d628d13a",
            "33df8bfd56f34423ac770876a71e2ab8",
            "de165f805b09486299c22ef1ecc1f94e",
            "9283f32c63964e89953eccef41ff5712",
            "de5acbd639694f6c9deeaa01f5efe961",
            "424fa26e84754ca9840eb839823ba2a3",
            "220f10ddb9ca4e338965f3537fbb0a78",
            "686da74ae54a4d65ab8e03949ace8846",
            "89f84403d9a048c2a58cbda1017eb3ef",
            "b5ff56fd1ea0419fbd3fa546199386b5",
            "3a903e644c5d41f7b83059bfa5bf37cc",
            "4ca75b01242f401f91eea53e72d5737f",
            "93d602f6f9f74251aca8f14d46c82478",
            "7c4c97b9423b4acfb89d59aa18a810de",
            "50a08fb220f4471ab5bea4e35e49e467",
            "64010cd3701a4e5592892f2a939598e4",
            "3940d443413a49c08a91398e11a31fc0",
            "03463b5d00ab4d1c8418d0f8ec0bfffe",
            "5204aadeb3884b52a1e56293d1bfe0fa",
            "bd9808ed2e8745a6ba714f0e59150d54",
            "8eef69a30b604eddb94cb10c3838b481",
            "936998c26c6f4a4d9f3d6ccb6b9ad2b8",
            "fd574a80d8ff4ba7ac36bf3a5d032310",
            "66b84d668bf34efe8cc41ea922232aeb",
            "f48ac32fc0c74deda818376c760c3f0f",
            "45938f3cf4df4bad97b635cc5cb9fd0f",
            "04b423b0f25f482fb0a6c41657cd3ed0",
            "d6ec27c0902d4c84bf85fcc5e32442f7",
            "956789f0dd14405d8711e97b8034f362",
            "b86731fb1d2f405ca60afb29189d120e",
            "d0837c71cc6a4e9587f61fbca4243067",
            "01bf1420f9dd4e64b8cbcd274b1601a0",
            "4fedcd7690ce42e888e30fbb7823d0c9",
            "0e4afaad3e0e4ddcbbe3a1a4d0c13389",
            "cad931854860487c9934ddf83e7ca9cf",
            "ef89d73d58404a7aa2e36c512aab86cd",
            "3e2b5b2b9cf347c9be93442ac47adcd1",
            "8f07db707f2b4d85a1049b30963d5a00",
            "212fa65b76084667ad2e4bf7173e6b7a",
            "87fdef3188284c9fbde6867745e19834",
            "2bc6f760522e47a88c49f6c4604988ce",
            "2095f30f913c4d73b71b662b04e49434",
            "dba356e1317c448bb1acaf9965220739",
            "919444c9323e43f78205a96414ed01ac",
            "09d295e7140845aebabe7c035e624e91"
          ]
        },
        "outputId": "77436889-e9bb-4978-ed9d-92118fd2bca1"
      },
      "outputs": [
        {
          "output_type": "display_data",
          "data": {
            "text/plain": [
              "Downloading:   0%|          | 0.00/25.0 [00:00<?, ?B/s]"
            ],
            "application/vnd.jupyter.widget-view+json": {
              "version_major": 2,
              "version_minor": 0,
              "model_id": "5de7b513c75f4792a5e99bc45005eb53"
            }
          },
          "metadata": {}
        },
        {
          "output_type": "display_data",
          "data": {
            "text/plain": [
              "Downloading:   0%|          | 0.00/498 [00:00<?, ?B/s]"
            ],
            "application/vnd.jupyter.widget-view+json": {
              "version_major": 2,
              "version_minor": 0,
              "model_id": "ee7e0e9d51ce43018575e3dfa74121ff"
            }
          },
          "metadata": {}
        },
        {
          "output_type": "display_data",
          "data": {
            "text/plain": [
              "Downloading:   0%|          | 0.00/899k [00:00<?, ?B/s]"
            ],
            "application/vnd.jupyter.widget-view+json": {
              "version_major": 2,
              "version_minor": 0,
              "model_id": "33df8bfd56f34423ac770876a71e2ab8"
            }
          },
          "metadata": {}
        },
        {
          "output_type": "display_data",
          "data": {
            "text/plain": [
              "Downloading:   0%|          | 0.00/456k [00:00<?, ?B/s]"
            ],
            "application/vnd.jupyter.widget-view+json": {
              "version_major": 2,
              "version_minor": 0,
              "model_id": "93d602f6f9f74251aca8f14d46c82478"
            }
          },
          "metadata": {}
        },
        {
          "output_type": "display_data",
          "data": {
            "text/plain": [
              "Downloading:   0%|          | 0.00/150 [00:00<?, ?B/s]"
            ],
            "application/vnd.jupyter.widget-view+json": {
              "version_major": 2,
              "version_minor": 0,
              "model_id": "66b84d668bf34efe8cc41ea922232aeb"
            }
          },
          "metadata": {}
        },
        {
          "output_type": "display_data",
          "data": {
            "text/plain": [
              "Downloading:   0%|          | 0.00/499M [00:00<?, ?B/s]"
            ],
            "application/vnd.jupyter.widget-view+json": {
              "version_major": 2,
              "version_minor": 0,
              "model_id": "cad931854860487c9934ddf83e7ca9cf"
            }
          },
          "metadata": {}
        }
      ],
      "source": [
        "# each edge should be weighted differently based on its type, edge should contain types\n",
        "from python_graphs import program_graph_dataclasses\n",
        "\n",
        "# for ast class list\n",
        "import sys, inspect\n",
        "\n",
        "# imports for tokenising code values\n",
        "from transformers import AutoTokenizer, AutoModel\n",
        "import torch\n",
        "\n",
        "tokenizer = AutoTokenizer.from_pretrained(\"microsoft/codebert-base\")\n",
        "model = AutoModel.from_pretrained(\"microsoft/codebert-base\")"
      ]
    },
    {
      "cell_type": "markdown",
      "source": [
        "#### Node Feature Helpers"
      ],
      "metadata": {
        "id": "pYH9kJs2dTSf"
      }
    },
    {
      "cell_type": "code",
      "source": [
        "# use enum value to set node type\n",
        "# dict updates only keys contained therein\n",
        "# automatic enum conversion\n",
        "def node_types_to_ints(G):\n",
        "  node_type_dict = nx.get_node_attributes(G, \"node_type\")\n",
        "  int_dict = {k: {\"node_type\": v.value} for k, v in node_type_dict.items()}\n",
        "  nx.set_node_attributes(G, int_dict)\n",
        "\n",
        "# use enum class to convert value back\n",
        "def ints_to_node_types(G):\n",
        "  node_type_dict = nx.get_node_attributes(G, \"node_type\")\n",
        "  node_type_dict = {k: {\"node_type\": program_graph_dataclasses.NodeType(v)} for k, v in node_type_dict.items()}\n",
        "  nx.set_node_attributes(G, node_type_dict)\n",
        "\n",
        "# ast type can be dealt with using string byte encoding\n",
        "def ast_types_to_ints(G, ast_types):\n",
        "  ast_type_dict = nx.get_node_attributes(G, \"ast_type\")\n",
        "  int_dict = {k: {\"ast_type\": ast_types.index(v)} for k, v in ast_type_dict.items()}\n",
        "  nx.set_node_attributes(G, int_dict)\n",
        "\n",
        "def ints_to_ast_types(G, ast_types):\n",
        "  ast_type_dict = nx.get_node_attributes(G, \"ast_type\")\n",
        "  int_dict = {k: {\"ast_type\": ast_types[v]} for k, v in ast_type_dict.items()}\n",
        "  nx.set_node_attributes(G, int_dict)\n",
        "\n",
        "# ast_value embeddings done using CodeBERT embeddings\n",
        "# N equates to context padding how many subsequent and following tokens are used in embedding\n",
        "def ast_values_to_context_embeddings(G, vocab, N = 1):\n",
        "  ast_value_dict = nx.get_node_attributes(G, \"ast_value\")\n",
        "\n",
        "  embedding_dict = {}\n",
        "\n",
        "  for k, v in ast_value_dict.items():\n",
        "\n",
        "    v = str(v)\n",
        "\n",
        "    idx = vocab.index(v)\n",
        "\n",
        "    start, end = idx - N, idx + N\n",
        "\n",
        "    if start > -1:\n",
        "      if end - 1 > len(vocab):\n",
        "        end = len(vocab) - 1\n",
        "    else:\n",
        "      start = 0\n",
        "    \n",
        "    code = ''.join(vocab[start : end])\n",
        "\n",
        "    code_tokens = tokenizer.tokenize(code)\n",
        "\n",
        "    tokens = [tokenizer.cls_token] + code_tokens + [tokenizer.sep_token]\n",
        "\n",
        "    tokens_ids = tokenizer.convert_tokens_to_ids(tokens)\n",
        "\n",
        "    # this is the final output from the model\n",
        "    # it consists of 1 vector for each token across 768 distinct features \n",
        "    context_embeddings = model(torch.tensor(tokens_ids)[None,:])[0]\n",
        "\n",
        "    embedding_dict[k] = {\"ast_value\": context_embeddings}\n",
        "\n",
        "  nx.set_node_attributes(G, embedding_dict)\n"
      ],
      "metadata": {
        "id": "c54hNyKAdMah"
      },
      "execution_count": null,
      "outputs": []
    },
    {
      "cell_type": "markdown",
      "source": [
        "#### Implementation"
      ],
      "metadata": {
        "id": "-tYAVWXzdoN4"
      }
    },
    {
      "cell_type": "code",
      "source": [
        "# This code graph class represents a combination of all the graphs generated in the code corpus\n",
        "# This code graph class represents a single graph generated in the code corpus\n",
        "class CodeGraph:\n",
        "\n",
        "  def __init__(self):\n",
        "    self.G = nx.MultiDiGraph()\n",
        "    self.vocab = set()\n",
        "    self.identifier = \"\"\n",
        "    self.is_pair = None\n",
        "    self.types = {\n",
        "        \"edge\" : program_graph_dataclasses.EdgeType._member_names_,\n",
        "        \"ast\" : [cls for _, cls in inspect.getmembers(sys.modules[\"ast\"], inspect.isclass)]\n",
        "        }\n",
        "\n",
        "  def read(self, graph):\n",
        "\n",
        "    # set identifier to file_name of graph if graph is a module\n",
        "    if (graph.root.ast_type == \"Module\"):\n",
        "      self.identifier = graph.filename\n",
        "    # TODO implement identifier for functions instead\n",
        "\n",
        "    # add nodes to graph along with their attributes\n",
        "    # dict comprehension deduplicates node id\n",
        "    # we can exclude the ast_node as this info should be encoded in the graphs and edges\n",
        "    # exclude instruction temporarily due to complexity\n",
        "    nodes = graph.all_nodes()\n",
        "    self.G.add_nodes_from([(node.id, {k: v for k, v in node.__dict__.items() if k not in [\"id\", \"ast_node\", \"instruction\"]}) for node in nodes])\n",
        "    \n",
        "    # append edges to the graph along with their attributes\n",
        "    # dict comprehension deduplicates node ids for edge\n",
        "    self.G.add_edges_from([(edge.id1, edge.id2, {k: v for k, v in edge.__dict__.items() if k.find(\"id\") == -1 }) for edge in graph.edges])\n",
        "    \n",
        "    # add ast values to vocab\n",
        "    self.vocab.update([str(token) for token in nx.get_node_attributes(self.G, \"ast_value\").values()])\n",
        "\n",
        "  def node_feature_vector_graph(self):\n",
        "    \n",
        "    # some node features have been discarded as they are too complex to be used by pytorch\n",
        "    # or replicate info stored elsewhere in the graph\n",
        "\n",
        "    H = self.G\n",
        "\n",
        "    node_type = H.nodes(data=\"node_type\").values()[0]\n",
        "    if not isinstance(node_type, int):\n",
        "      node_types_to_ints(H)\n",
        "      ast_types_to_ints(H, self.types.ast)\n",
        "      ast_values_to_context_embeddings(H, self.vocab)\n",
        "    \n",
        "    return H\n",
        "\n",
        "    \n",
        "\n",
        "    \"\"\"{'node_type': <NodeType.AST_NODE: 1>, \n",
        "      # ignoring instruction due to it being another complex graph\n",
        "      'instruction': <python_graphs.instruction.Instruction object at 0x7ff853d756d0>, \n",
        "      'ast_type': 'Expr', \n",
        "      'ast_value': '', \n",
        "      'syntax': ''}\"\"\"\n",
        "    \n",
        "    # ast_value encoding\n",
        "  \n",
        "  def draw(self):\n",
        "    if len(self.G.nodes) > 0:\n",
        "      # create normalizer for colours\n",
        "      norm = plt.Normalize()\n",
        "\n",
        "      # use vocab and edge_types to generate colours for plot\n",
        "      # edges are mapped to their position in types\n",
        "      token_colors = [self.vocab.index(val) for val in list(nx.get_node_attributes(self.G, \"ast_value\").values())]\n",
        "      edge_type_colors = [edge_type.value for edge_type in list(nx.get_edge_attributes(self.G, \"type\").values())]\n",
        "      \n",
        "      # normalize the colors between [0, 1]\n",
        "      node_color, edge_color = norm(token_colors), norm(edge_type_colors)\n",
        "\n",
        "      fig, ax = plt.subplots(1, 1, figsize=(10, 10));\n",
        "\n",
        "      nx.draw_networkx(self.G, edge_color = edge_color, node_color = node_color, with_labels=True, ax = ax)\n",
        "  \n",
        "  def pytorch_graph(self):\n",
        "    H = node_feature_vector_graph(self)\n",
        "    \n",
        "    pyg = from_networkx(H)\n",
        "    \n",
        "    if (self.is_pair):\n",
        "      pyg.y = torch.tensor([int(self.is_pair)])\n",
        "    \n",
        "    return "
      ],
      "metadata": {
        "id": "ZNQNLu0zbvTr"
      },
      "execution_count": null,
      "outputs": []
    },
    {
      "cell_type": "markdown",
      "source": [
        "### Get a Graph from List"
      ],
      "metadata": {
        "id": "8JJX8XgA7OYZ"
      }
    },
    {
      "cell_type": "code",
      "execution_count": null,
      "metadata": {
        "id": "gju3TgKBlSNR"
      },
      "outputs": [],
      "source": [
        "# graph = graph_list[10]\n",
        "\n",
        "# print(list(graph.nodes))\n",
        "# print(len(graph.nodes))\n",
        "# print(graph.root.ast_type)\n",
        "# print(graph.__dict__)\n",
        "\n",
        "# # came across a graph of size 4734\n",
        "# # may be sign to split graphs by test instead\n",
        "# # file_name, len(graph.nodes), len(cg.G.nodes)\n",
        "\n",
        "# # split graphs by test\n",
        "# # len(list(graph.get_ast_nodes_of_type(ast.FunctionDef.__name__)))"
      ]
    },
    {
      "cell_type": "markdown",
      "source": [
        "### Create a Code Graph List"
      ],
      "metadata": {
        "id": "xRWkelnRF2lE"
      }
    },
    {
      "cell_type": "code",
      "source": [
        "code_graph_list = []\n",
        "\n",
        "for graph in graph_list:\n",
        "  cg = CodeGraph()\n",
        "  cg.read(graph)\n",
        "  code_graph_list.append(cg)\n",
        "\n",
        "# cleanup graph list\n",
        "del(graph_list)\n",
        "\n",
        "code_graph_list"
      ],
      "metadata": {
        "id": "Zd_Q_yq3F63p"
      },
      "execution_count": null,
      "outputs": []
    },
    {
      "cell_type": "code",
      "source": [
        "code_graph_list[0].__dict__"
      ],
      "metadata": {
        "id": "5Nrp0iGLHFia"
      },
      "execution_count": null,
      "outputs": []
    },
    {
      "cell_type": "markdown",
      "source": [
        "### Remove Transformers model and tokenizer from memory"
      ],
      "metadata": {
        "id": "Nm0Iqtv0rC5u"
      }
    },
    {
      "cell_type": "code",
      "source": [
        "del(model)"
      ],
      "metadata": {
        "id": "_cRBj2DcrLb3"
      },
      "execution_count": null,
      "outputs": []
    },
    {
      "cell_type": "code",
      "source": [
        "del(tokenizer)"
      ],
      "metadata": {
        "id": "6KzBVY6irVT3"
      },
      "execution_count": null,
      "outputs": []
    },
    {
      "cell_type": "markdown",
      "source": [
        "### Pairing Graphs"
      ],
      "metadata": {
        "id": "UKiLLhYWCzki"
      }
    },
    {
      "cell_type": "code",
      "source": [
        "# dataset will consist of:\n",
        "# graph - a graph containing  candidate src graph and test graph\n",
        "# label - a 0 or 1 corresponding to whether the test and src are a valid pairing\n",
        "\n",
        "# filter out combination results that contain two source files or two test files\n",
        "def is_src_test_pair(pair):\n",
        "  graph1, graph2 = pair\n",
        "\n",
        "  # checks both are not the same type of file\n",
        "  return graph1.identifier.find(\"test\") != graph2.identifier.find(\"test\")\n",
        "\n",
        "# function for combining code_graphs\n",
        "def combine_code_graphs(pair):\n",
        "  code_graph1, code_graph2 = pair\n",
        "  # check if the node vectorisation has already happened\n",
        "  node_type_list = [\n",
        "      list(code_graph1.G.nodes(data=\"node_type\"))[0][1],\n",
        "      list(code_graph2.G.nodes(data=\"node_type\"))[0][1],\n",
        "  ]\n",
        "  \n",
        "  if any([isinstance(node_type, int) for node_type in node_type_list]):\n",
        "    raise Exception(\"Cannot combine code graphs that have already been vectorised\")\n",
        "\n",
        "  # uses number of nodes to verify combination graph worked correctly\n",
        "  graph1, graph2 = code_graph1.G, code_graph2.G\n",
        "  \n",
        "  H = nx.disjoint_union(graph1, graph2)\n",
        "\n",
        "  code_graph1.G = H\n",
        "  code_graph1.vocab.update(list(code_graph2.vocab))\n",
        "\n",
        "  # add a property to the code_graph checking whether or not there are a code, test pair\n",
        "  # False for pair, True for non pair\n",
        "  # dealing with file at present\n",
        "  # mapping functions it will require looking at AST calls etc.\n",
        "  code_graph1.is_pair = code_graph1.identifier.replace(\"_test.py\", \"\") == code_graph2.identifier.replace(\"_test.py\", \"\")\n",
        "\n",
        "  # cleanup vars for concurrency\n",
        "  del(graph1)\n",
        "  del(graph2)\n",
        "  del(code_graph2)\n",
        "  del(node_type_list)\n",
        "  del(H)\n",
        "  return code_graph1"
      ],
      "metadata": {
        "id": "HWeiGfM_CxpW"
      },
      "execution_count": null,
      "outputs": []
    },
    {
      "cell_type": "code",
      "source": [
        "def save_paired_code_graphs(graph_list, dir = CODE_DIR):\n",
        "  graph_dir = os.path.join(dir, \"graphs\", \"\")\n",
        "  \n",
        "  if not os.path.exists(graph_dir):\n",
        "    os.makedirs(graph_dir)\n",
        "  \n",
        "  file = os.path.join(graph_dir, \"code_graphs.pickle\")\n",
        "\n",
        "  pickle.dump(graph_list, open(file, \"wb\"), protocol = pickle.HIGHEST_PROTOCOL)\n",
        "\n",
        "  # cleanup\n",
        "  del(graph_dir)\n",
        "  del(file)"
      ],
      "metadata": {
        "id": "XYluaANMhL-n"
      },
      "execution_count": null,
      "outputs": []
    },
    {
      "cell_type": "code",
      "source": [
        "! pip install bounded-pool-executor\n",
        "# get all possible combinations of code_graphs\n",
        "from itertools import combinations\n",
        "from bounded_pool_executor import BoundedProcessPoolExecutor\n",
        "\n",
        "# only regenerated paired graphs if not already pickled \n",
        "if not os.path.exists(os.path.join(CODE_DIR, \"graphs\", \"code_graphs.pickle\")):\n",
        "  # update combined_code_graph_list to contain the combined code graphs with parallelisation\n",
        "  # inline to reduce stored vars\n",
        "  pairs = list(filter(is_src_test_pair, list(combinations(code_graph_list, 2))))\n",
        "  del(code_graph_list)\n",
        "  \n",
        "  with BoundedProcessPoolExecutor(max_workers = 20) as executor:\n",
        "    combined_code_graph_list = list(executor.map(combine_code_graphs, pairs, chunksize = 100))\n",
        "  # cleanup code_graph_list\n",
        "  del(pairs)\n",
        "  del(executor)\n",
        "  save_paired_code_graphs(combined_code_graph_list)\n",
        "else:\n",
        "  combined_code_graph_list = pickle.load(open(os.path.join(CODE_DIR, \"graphs\", \"code_graphs.pickle\"), \"rb\"))"
      ],
      "metadata": {
        "id": "-Y1JhzTIkFHK"
      },
      "execution_count": null,
      "outputs": []
    },
    {
      "cell_type": "markdown",
      "source": [
        "### Stop Neptune"
      ],
      "metadata": {
        "id": "-8vjanQAls2N"
      }
    },
    {
      "cell_type": "code",
      "source": [
        "# stop neptune\n",
        "run.stop()"
      ],
      "metadata": {
        "id": "XQ4LwHDMH0DP"
      },
      "execution_count": null,
      "outputs": []
    },
    {
      "cell_type": "code",
      "source": [
        "# idea for doing tested source MLM\n",
        "# provide the source graph as input and mask a node in the test graph randomly\n",
        "# predict what the node is, including node_type, node_value if applicable "
      ],
      "metadata": {
        "id": "3l-ghrohKAcO"
      },
      "execution_count": null,
      "outputs": []
    },
    {
      "cell_type": "code",
      "source": [
        "%debug"
      ],
      "metadata": {
        "id": "pidNVa4TvZCC"
      },
      "execution_count": null,
      "outputs": []
    },
    {
      "cell_type": "markdown",
      "metadata": {
        "id": "Z8fX44jExinI"
      },
      "source": [
        "### PyTorch Conversion"
      ]
    },
    {
      "cell_type": "code",
      "execution_count": null,
      "metadata": {
        "colab": {
          "base_uri": "https://localhost:8080/"
        },
        "id": "IPlC4qLL0CY-",
        "outputId": "61233a44-5c51-4370-a843-a359865b5d53"
      },
      "outputs": [
        {
          "output_type": "stream",
          "name": "stdout",
          "text": [
            "PyTorch has version 1.13.0+cu116\n"
          ]
        }
      ],
      "source": [
        "import torch\n",
        "print(\"PyTorch has version {}\".format(torch.__version__))"
      ]
    },
    {
      "cell_type": "code",
      "execution_count": null,
      "metadata": {
        "id": "tCUAunHgfRDc"
      },
      "outputs": [],
      "source": [
        "!pip install -Uqqq torch-scatter torch-sparse torch-geometric -f https://pytorch-geometric.com/whl/torch-1.13.0+cu116.html"
      ]
    },
    {
      "cell_type": "code",
      "execution_count": null,
      "metadata": {
        "colab": {
          "base_uri": "https://localhost:8080/",
          "height": 324
        },
        "id": "dl92SSHT0hMt",
        "outputId": "f0066eda-253c-4bbd-e0f9-36f0d45b3aeb"
      },
      "outputs": [
        {
          "output_type": "error",
          "ename": "RuntimeError",
          "evalue": "ignored",
          "traceback": [
            "\u001b[0;31m---------------------------------------------------------------------------\u001b[0m",
            "\u001b[0;31mRuntimeError\u001b[0m                              Traceback (most recent call last)",
            "\u001b[0;32m<ipython-input-196-ea70017f49ff>\u001b[0m in \u001b[0;36m<module>\u001b[0;34m\u001b[0m\n\u001b[1;32m      5\u001b[0m \u001b[0mnode\u001b[0m\u001b[0;34m\u001b[0m\u001b[0;34m\u001b[0m\u001b[0m\n\u001b[1;32m      6\u001b[0m \u001b[0;34m\u001b[0m\u001b[0m\n\u001b[0;32m----> 7\u001b[0;31m \u001b[0mtorch_graph\u001b[0m \u001b[0;34m=\u001b[0m \u001b[0mfrom_networkx\u001b[0m\u001b[0;34m(\u001b[0m\u001b[0mG\u001b[0m\u001b[0;34m)\u001b[0m\u001b[0;34m\u001b[0m\u001b[0;34m\u001b[0m\u001b[0m\n\u001b[0m",
            "\u001b[0;32m/usr/local/lib/python3.8/dist-packages/torch_geometric/utils/convert.py\u001b[0m in \u001b[0;36mfrom_networkx\u001b[0;34m(G, group_node_attrs, group_edge_attrs)\u001b[0m\n\u001b[1;32m    248\u001b[0m         \u001b[0;32melse\u001b[0m\u001b[0;34m:\u001b[0m\u001b[0;34m\u001b[0m\u001b[0;34m\u001b[0m\u001b[0m\n\u001b[1;32m    249\u001b[0m             \u001b[0;32mtry\u001b[0m\u001b[0;34m:\u001b[0m\u001b[0;34m\u001b[0m\u001b[0;34m\u001b[0m\u001b[0m\n\u001b[0;32m--> 250\u001b[0;31m                 \u001b[0mdata\u001b[0m\u001b[0;34m[\u001b[0m\u001b[0mkey\u001b[0m\u001b[0;34m]\u001b[0m \u001b[0;34m=\u001b[0m \u001b[0mtorch\u001b[0m\u001b[0;34m.\u001b[0m\u001b[0mtensor\u001b[0m\u001b[0;34m(\u001b[0m\u001b[0mvalue\u001b[0m\u001b[0;34m)\u001b[0m\u001b[0;34m\u001b[0m\u001b[0;34m\u001b[0m\u001b[0m\n\u001b[0m\u001b[1;32m    251\u001b[0m             \u001b[0;32mexcept\u001b[0m \u001b[0;34m(\u001b[0m\u001b[0mValueError\u001b[0m\u001b[0;34m,\u001b[0m \u001b[0mTypeError\u001b[0m\u001b[0;34m)\u001b[0m\u001b[0;34m:\u001b[0m\u001b[0;34m\u001b[0m\u001b[0;34m\u001b[0m\u001b[0m\n\u001b[1;32m    252\u001b[0m                 \u001b[0;32mpass\u001b[0m\u001b[0;34m\u001b[0m\u001b[0;34m\u001b[0m\u001b[0m\n",
            "\u001b[0;31mRuntimeError\u001b[0m: Overflow when unpacking long"
          ]
        }
      ],
      "source": [
        "from torch_geometric.utils.convert import from_networkx\n",
        "\n",
        "\n",
        "\n",
        "torch_graph = cg.pytorch_graph()\n"
      ]
    },
    {
      "cell_type": "markdown",
      "source": [
        "## GCN Layer"
      ],
      "metadata": {
        "id": "c5Ehm0ON8sh9"
      }
    },
    {
      "cell_type": "code",
      "source": [
        "import torch\n",
        "from torch import Tensor\n",
        "from torch_geometric.nn import GCNConv\n",
        "\n",
        "# Graph Classifier Network Layer\n",
        "# Learns embedding of a graph based on its nodes\n",
        "\n",
        "class GCN(torch.nn.Module):\n",
        "  def __init__(self, in_channels, hidden_channels, out_channels):\n",
        "    super().__init__()\n",
        "    self.conv1 = GCNConv(in_channels, hidden_channels)\n",
        "    self.conv2 = GCNConv(hidden_channels, out_channels)\n",
        "\n",
        "  def forward(self, x: Tensor, edge_index: Tensor) -> Tensor:\n",
        "    # x: Node feature matrix of shape [num_nodes, in_channels]\n",
        "    # edge_index: Graph connectivity matrix of shape [2, num_edges]\n",
        "    x = self.conv1(x, edge_index).relu()\n",
        "    x = self.conv2(x, edge_index)\n",
        "    return x"
      ],
      "metadata": {
        "id": "KaVYGdQ88w7j"
      },
      "execution_count": null,
      "outputs": []
    },
    {
      "cell_type": "markdown",
      "source": [
        "## GCN Layer"
      ],
      "metadata": {
        "id": "8fY4ntFZ-HYH"
      }
    },
    {
      "cell_type": "code",
      "source": [
        "import torch\n",
        "from torch import Tensor\n",
        "from torch_geometric.nn import GCNConv\n",
        "\n",
        "# Graph Classifier Network Layer\n",
        "# Learns embedding of a graph based on its nodes\n",
        "\n",
        "class GCN(torch.nn.Module):\n",
        "  def __init__(self, in_channels, hidden_channels, out_channels):\n",
        "    super().__init__()\n",
        "    self.conv1 = GCNConv(in_channels, hidden_channels)\n",
        "    self.conv2 = GCNConv(hidden_channels, out_channels)\n",
        "\n",
        "  def forward(self, x: Tensor, edge_index: Tensor) -> Tensor:\n",
        "    # x: Node feature matrix of shape [num_nodes, in_channels]\n",
        "    # edge_index: Graph connectivity matrix of shape [2, num_edges]\n",
        "    x = self.conv1(x, edge_index).relu()\n",
        "    x = self.conv2(x, edge_index)\n",
        "    return x"
      ],
      "metadata": {
        "id": "E5RnHWPF-HYV"
      },
      "execution_count": null,
      "outputs": []
    },
    {
      "cell_type": "markdown",
      "metadata": {
        "id": "HQlk4IC4FXp0"
      },
      "source": [
        "## Create Train and Evaluation Experiment"
      ]
    },
    {
      "cell_type": "code",
      "execution_count": null,
      "metadata": {
        "id": "mjkPGv8CFb85"
      },
      "outputs": [],
      "source": [
        "# Train and Arch variables\n",
        "hidden_units = [32, 32]\n",
        "learning_rate = 0.01\n",
        "dropout_rate = 0.5\n",
        "num_epochs = 300\n",
        "batch_size = 256"
      ]
    },
    {
      "cell_type": "code",
      "execution_count": null,
      "metadata": {
        "id": "oPSmo0L5Fhr4"
      },
      "outputs": [],
      "source": []
    },
    {
      "cell_type": "code",
      "execution_count": null,
      "metadata": {
        "id": "zxrDRjYcSWl2"
      },
      "outputs": [],
      "source": [
        "def display_learning_curves(history):\n",
        "    fig, (ax1, ax2) = plt.subplots(1, 2, figsize=(15, 5))\n",
        "\n",
        "    ax1.plot(history.history[\"loss\"])\n",
        "    ax1.plot(history.history[\"val_loss\"])\n",
        "    ax1.legend([\"train\", \"test\"], loc=\"upper right\")\n",
        "    ax1.set_xlabel(\"Epochs\")\n",
        "    ax1.set_ylabel(\"Loss\")\n",
        "\n",
        "    ax2.plot(history.history[\"acc\"])\n",
        "    ax2.plot(history.history[\"val_acc\"])\n",
        "    ax2.legend([\"train\", \"test\"], loc=\"upper right\")\n",
        "    ax2.set_xlabel(\"Epochs\")\n",
        "    ax2.set_ylabel(\"Accuracy\")\n",
        "    plt.show()"
      ]
    }
  ],
  "metadata": {
    "colab": {
      "collapsed_sections": [
        "6h3hDQAKiSK2",
        "D3ThqF6zVgR_",
        "pYH9kJs2dTSf",
        "-tYAVWXzdoN4",
        "8JJX8XgA7OYZ",
        "HQlk4IC4FXp0"
      ],
      "provenance": [],
      "history_visible": true,
      "mount_file_id": "1J3-QrijqHd0jsI8uAtQTDWGNkiXTw3sb",
      "authorship_tag": "ABX9TyMAUugz8M2DxedkTD6vu/8X",
      "include_colab_link": true
    },
    "gpuClass": "standard",
    "kernelspec": {
      "display_name": "Python 3",
      "name": "python3"
    },
    "language_info": {
      "name": "python"
    },
    "widgets": {
      "application/vnd.jupyter.widget-state+json": {
        "5de7b513c75f4792a5e99bc45005eb53": {
          "model_module": "@jupyter-widgets/controls",
          "model_name": "HBoxModel",
          "model_module_version": "2.0.0",
          "state": {
            "_dom_classes": [],
            "_model_module": "@jupyter-widgets/controls",
            "_model_module_version": "2.0.0",
            "_model_name": "HBoxModel",
            "_view_count": null,
            "_view_module": "@jupyter-widgets/controls",
            "_view_module_version": "2.0.0",
            "_view_name": "HBoxView",
            "box_style": "",
            "children": [
              "IPY_MODEL_4a108d64a7574122b7dd8c345162889d",
              "IPY_MODEL_30a276118cd3451685198d9989bab156",
              "IPY_MODEL_48fdcf514f4f4accbd240d22d2f152b9"
            ],
            "layout": "IPY_MODEL_0ca286058bf248ea90b7c11d42948b12",
            "tabbable": null,
            "tooltip": null
          }
        },
        "4a108d64a7574122b7dd8c345162889d": {
          "model_module": "@jupyter-widgets/controls",
          "model_name": "HTMLModel",
          "model_module_version": "2.0.0",
          "state": {
            "_dom_classes": [],
            "_model_module": "@jupyter-widgets/controls",
            "_model_module_version": "2.0.0",
            "_model_name": "HTMLModel",
            "_view_count": null,
            "_view_module": "@jupyter-widgets/controls",
            "_view_module_version": "2.0.0",
            "_view_name": "HTMLView",
            "description": "",
            "description_allow_html": false,
            "layout": "IPY_MODEL_898cb31e0d694c3b9c45b208af528ae2",
            "placeholder": "​",
            "style": "IPY_MODEL_1cf7fe18a556477ab810b1b0ec7d2d69",
            "tabbable": null,
            "tooltip": null,
            "value": "Downloading: 100%"
          }
        },
        "30a276118cd3451685198d9989bab156": {
          "model_module": "@jupyter-widgets/controls",
          "model_name": "FloatProgressModel",
          "model_module_version": "2.0.0",
          "state": {
            "_dom_classes": [],
            "_model_module": "@jupyter-widgets/controls",
            "_model_module_version": "2.0.0",
            "_model_name": "FloatProgressModel",
            "_view_count": null,
            "_view_module": "@jupyter-widgets/controls",
            "_view_module_version": "2.0.0",
            "_view_name": "ProgressView",
            "bar_style": "success",
            "description": "",
            "description_allow_html": false,
            "layout": "IPY_MODEL_9b86ddd254b44fad942c132b4f7cd8be",
            "max": 25,
            "min": 0,
            "orientation": "horizontal",
            "style": "IPY_MODEL_3cedb18321d04398b33ac33d230b5c34",
            "tabbable": null,
            "tooltip": null,
            "value": 25
          }
        },
        "48fdcf514f4f4accbd240d22d2f152b9": {
          "model_module": "@jupyter-widgets/controls",
          "model_name": "HTMLModel",
          "model_module_version": "2.0.0",
          "state": {
            "_dom_classes": [],
            "_model_module": "@jupyter-widgets/controls",
            "_model_module_version": "2.0.0",
            "_model_name": "HTMLModel",
            "_view_count": null,
            "_view_module": "@jupyter-widgets/controls",
            "_view_module_version": "2.0.0",
            "_view_name": "HTMLView",
            "description": "",
            "description_allow_html": false,
            "layout": "IPY_MODEL_55aa80407e7a463da310d40d54befbd7",
            "placeholder": "​",
            "style": "IPY_MODEL_d5d83101b4a14a33911bdd0a667142fc",
            "tabbable": null,
            "tooltip": null,
            "value": " 25.0/25.0 [00:00&lt;00:00, 56.3B/s]"
          }
        },
        "0ca286058bf248ea90b7c11d42948b12": {
          "model_module": "@jupyter-widgets/base",
          "model_name": "LayoutModel",
          "model_module_version": "2.0.0",
          "state": {
            "_model_module": "@jupyter-widgets/base",
            "_model_module_version": "2.0.0",
            "_model_name": "LayoutModel",
            "_view_count": null,
            "_view_module": "@jupyter-widgets/base",
            "_view_module_version": "2.0.0",
            "_view_name": "LayoutView",
            "align_content": null,
            "align_items": null,
            "align_self": null,
            "border_bottom": null,
            "border_left": null,
            "border_right": null,
            "border_top": null,
            "bottom": null,
            "display": null,
            "flex": null,
            "flex_flow": null,
            "grid_area": null,
            "grid_auto_columns": null,
            "grid_auto_flow": null,
            "grid_auto_rows": null,
            "grid_column": null,
            "grid_gap": null,
            "grid_row": null,
            "grid_template_areas": null,
            "grid_template_columns": null,
            "grid_template_rows": null,
            "height": null,
            "justify_content": null,
            "justify_items": null,
            "left": null,
            "margin": null,
            "max_height": null,
            "max_width": null,
            "min_height": null,
            "min_width": null,
            "object_fit": null,
            "object_position": null,
            "order": null,
            "overflow": null,
            "padding": null,
            "right": null,
            "top": null,
            "visibility": null,
            "width": null
          }
        },
        "898cb31e0d694c3b9c45b208af528ae2": {
          "model_module": "@jupyter-widgets/base",
          "model_name": "LayoutModel",
          "model_module_version": "2.0.0",
          "state": {
            "_model_module": "@jupyter-widgets/base",
            "_model_module_version": "2.0.0",
            "_model_name": "LayoutModel",
            "_view_count": null,
            "_view_module": "@jupyter-widgets/base",
            "_view_module_version": "2.0.0",
            "_view_name": "LayoutView",
            "align_content": null,
            "align_items": null,
            "align_self": null,
            "border_bottom": null,
            "border_left": null,
            "border_right": null,
            "border_top": null,
            "bottom": null,
            "display": null,
            "flex": null,
            "flex_flow": null,
            "grid_area": null,
            "grid_auto_columns": null,
            "grid_auto_flow": null,
            "grid_auto_rows": null,
            "grid_column": null,
            "grid_gap": null,
            "grid_row": null,
            "grid_template_areas": null,
            "grid_template_columns": null,
            "grid_template_rows": null,
            "height": null,
            "justify_content": null,
            "justify_items": null,
            "left": null,
            "margin": null,
            "max_height": null,
            "max_width": null,
            "min_height": null,
            "min_width": null,
            "object_fit": null,
            "object_position": null,
            "order": null,
            "overflow": null,
            "padding": null,
            "right": null,
            "top": null,
            "visibility": null,
            "width": null
          }
        },
        "1cf7fe18a556477ab810b1b0ec7d2d69": {
          "model_module": "@jupyter-widgets/controls",
          "model_name": "HTMLStyleModel",
          "model_module_version": "2.0.0",
          "state": {
            "_model_module": "@jupyter-widgets/controls",
            "_model_module_version": "2.0.0",
            "_model_name": "HTMLStyleModel",
            "_view_count": null,
            "_view_module": "@jupyter-widgets/base",
            "_view_module_version": "2.0.0",
            "_view_name": "StyleView",
            "background": null,
            "description_width": "",
            "font_size": null,
            "text_color": null
          }
        },
        "9b86ddd254b44fad942c132b4f7cd8be": {
          "model_module": "@jupyter-widgets/base",
          "model_name": "LayoutModel",
          "model_module_version": "2.0.0",
          "state": {
            "_model_module": "@jupyter-widgets/base",
            "_model_module_version": "2.0.0",
            "_model_name": "LayoutModel",
            "_view_count": null,
            "_view_module": "@jupyter-widgets/base",
            "_view_module_version": "2.0.0",
            "_view_name": "LayoutView",
            "align_content": null,
            "align_items": null,
            "align_self": null,
            "border_bottom": null,
            "border_left": null,
            "border_right": null,
            "border_top": null,
            "bottom": null,
            "display": null,
            "flex": null,
            "flex_flow": null,
            "grid_area": null,
            "grid_auto_columns": null,
            "grid_auto_flow": null,
            "grid_auto_rows": null,
            "grid_column": null,
            "grid_gap": null,
            "grid_row": null,
            "grid_template_areas": null,
            "grid_template_columns": null,
            "grid_template_rows": null,
            "height": null,
            "justify_content": null,
            "justify_items": null,
            "left": null,
            "margin": null,
            "max_height": null,
            "max_width": null,
            "min_height": null,
            "min_width": null,
            "object_fit": null,
            "object_position": null,
            "order": null,
            "overflow": null,
            "padding": null,
            "right": null,
            "top": null,
            "visibility": null,
            "width": null
          }
        },
        "3cedb18321d04398b33ac33d230b5c34": {
          "model_module": "@jupyter-widgets/controls",
          "model_name": "ProgressStyleModel",
          "model_module_version": "2.0.0",
          "state": {
            "_model_module": "@jupyter-widgets/controls",
            "_model_module_version": "2.0.0",
            "_model_name": "ProgressStyleModel",
            "_view_count": null,
            "_view_module": "@jupyter-widgets/base",
            "_view_module_version": "2.0.0",
            "_view_name": "StyleView",
            "bar_color": null,
            "description_width": ""
          }
        },
        "55aa80407e7a463da310d40d54befbd7": {
          "model_module": "@jupyter-widgets/base",
          "model_name": "LayoutModel",
          "model_module_version": "2.0.0",
          "state": {
            "_model_module": "@jupyter-widgets/base",
            "_model_module_version": "2.0.0",
            "_model_name": "LayoutModel",
            "_view_count": null,
            "_view_module": "@jupyter-widgets/base",
            "_view_module_version": "2.0.0",
            "_view_name": "LayoutView",
            "align_content": null,
            "align_items": null,
            "align_self": null,
            "border_bottom": null,
            "border_left": null,
            "border_right": null,
            "border_top": null,
            "bottom": null,
            "display": null,
            "flex": null,
            "flex_flow": null,
            "grid_area": null,
            "grid_auto_columns": null,
            "grid_auto_flow": null,
            "grid_auto_rows": null,
            "grid_column": null,
            "grid_gap": null,
            "grid_row": null,
            "grid_template_areas": null,
            "grid_template_columns": null,
            "grid_template_rows": null,
            "height": null,
            "justify_content": null,
            "justify_items": null,
            "left": null,
            "margin": null,
            "max_height": null,
            "max_width": null,
            "min_height": null,
            "min_width": null,
            "object_fit": null,
            "object_position": null,
            "order": null,
            "overflow": null,
            "padding": null,
            "right": null,
            "top": null,
            "visibility": null,
            "width": null
          }
        },
        "d5d83101b4a14a33911bdd0a667142fc": {
          "model_module": "@jupyter-widgets/controls",
          "model_name": "HTMLStyleModel",
          "model_module_version": "2.0.0",
          "state": {
            "_model_module": "@jupyter-widgets/controls",
            "_model_module_version": "2.0.0",
            "_model_name": "HTMLStyleModel",
            "_view_count": null,
            "_view_module": "@jupyter-widgets/base",
            "_view_module_version": "2.0.0",
            "_view_name": "StyleView",
            "background": null,
            "description_width": "",
            "font_size": null,
            "text_color": null
          }
        },
        "ee7e0e9d51ce43018575e3dfa74121ff": {
          "model_module": "@jupyter-widgets/controls",
          "model_name": "HBoxModel",
          "model_module_version": "2.0.0",
          "state": {
            "_dom_classes": [],
            "_model_module": "@jupyter-widgets/controls",
            "_model_module_version": "2.0.0",
            "_model_name": "HBoxModel",
            "_view_count": null,
            "_view_module": "@jupyter-widgets/controls",
            "_view_module_version": "2.0.0",
            "_view_name": "HBoxView",
            "box_style": "",
            "children": [
              "IPY_MODEL_f0352f52880c44a687a14171bb01bffd",
              "IPY_MODEL_f0602ac437364fbb95f0206b3c19c9c0",
              "IPY_MODEL_36bf2c1f9053493aad7456639d8036f8"
            ],
            "layout": "IPY_MODEL_a117db2ab42c44fab8511dc8de6edaa7",
            "tabbable": null,
            "tooltip": null
          }
        },
        "f0352f52880c44a687a14171bb01bffd": {
          "model_module": "@jupyter-widgets/controls",
          "model_name": "HTMLModel",
          "model_module_version": "2.0.0",
          "state": {
            "_dom_classes": [],
            "_model_module": "@jupyter-widgets/controls",
            "_model_module_version": "2.0.0",
            "_model_name": "HTMLModel",
            "_view_count": null,
            "_view_module": "@jupyter-widgets/controls",
            "_view_module_version": "2.0.0",
            "_view_name": "HTMLView",
            "description": "",
            "description_allow_html": false,
            "layout": "IPY_MODEL_8b2ebfcf1efb4b0a9cd3b4af3a90fcc1",
            "placeholder": "​",
            "style": "IPY_MODEL_f53d305edf8b4cc285d286ffc557ee6f",
            "tabbable": null,
            "tooltip": null,
            "value": "Downloading: 100%"
          }
        },
        "f0602ac437364fbb95f0206b3c19c9c0": {
          "model_module": "@jupyter-widgets/controls",
          "model_name": "FloatProgressModel",
          "model_module_version": "2.0.0",
          "state": {
            "_dom_classes": [],
            "_model_module": "@jupyter-widgets/controls",
            "_model_module_version": "2.0.0",
            "_model_name": "FloatProgressModel",
            "_view_count": null,
            "_view_module": "@jupyter-widgets/controls",
            "_view_module_version": "2.0.0",
            "_view_name": "ProgressView",
            "bar_style": "success",
            "description": "",
            "description_allow_html": false,
            "layout": "IPY_MODEL_2d794210dc0a4b8382662b857c362728",
            "max": 498,
            "min": 0,
            "orientation": "horizontal",
            "style": "IPY_MODEL_b42033dc7d434b3e8b8071e8fc60e79c",
            "tabbable": null,
            "tooltip": null,
            "value": 498
          }
        },
        "36bf2c1f9053493aad7456639d8036f8": {
          "model_module": "@jupyter-widgets/controls",
          "model_name": "HTMLModel",
          "model_module_version": "2.0.0",
          "state": {
            "_dom_classes": [],
            "_model_module": "@jupyter-widgets/controls",
            "_model_module_version": "2.0.0",
            "_model_name": "HTMLModel",
            "_view_count": null,
            "_view_module": "@jupyter-widgets/controls",
            "_view_module_version": "2.0.0",
            "_view_name": "HTMLView",
            "description": "",
            "description_allow_html": false,
            "layout": "IPY_MODEL_e668a3635f2a4243a46881bd8b496527",
            "placeholder": "​",
            "style": "IPY_MODEL_cb17e877acd94d19abf87317d628d13a",
            "tabbable": null,
            "tooltip": null,
            "value": " 498/498 [00:00&lt;00:00, 3.30kB/s]"
          }
        },
        "a117db2ab42c44fab8511dc8de6edaa7": {
          "model_module": "@jupyter-widgets/base",
          "model_name": "LayoutModel",
          "model_module_version": "2.0.0",
          "state": {
            "_model_module": "@jupyter-widgets/base",
            "_model_module_version": "2.0.0",
            "_model_name": "LayoutModel",
            "_view_count": null,
            "_view_module": "@jupyter-widgets/base",
            "_view_module_version": "2.0.0",
            "_view_name": "LayoutView",
            "align_content": null,
            "align_items": null,
            "align_self": null,
            "border_bottom": null,
            "border_left": null,
            "border_right": null,
            "border_top": null,
            "bottom": null,
            "display": null,
            "flex": null,
            "flex_flow": null,
            "grid_area": null,
            "grid_auto_columns": null,
            "grid_auto_flow": null,
            "grid_auto_rows": null,
            "grid_column": null,
            "grid_gap": null,
            "grid_row": null,
            "grid_template_areas": null,
            "grid_template_columns": null,
            "grid_template_rows": null,
            "height": null,
            "justify_content": null,
            "justify_items": null,
            "left": null,
            "margin": null,
            "max_height": null,
            "max_width": null,
            "min_height": null,
            "min_width": null,
            "object_fit": null,
            "object_position": null,
            "order": null,
            "overflow": null,
            "padding": null,
            "right": null,
            "top": null,
            "visibility": null,
            "width": null
          }
        },
        "8b2ebfcf1efb4b0a9cd3b4af3a90fcc1": {
          "model_module": "@jupyter-widgets/base",
          "model_name": "LayoutModel",
          "model_module_version": "2.0.0",
          "state": {
            "_model_module": "@jupyter-widgets/base",
            "_model_module_version": "2.0.0",
            "_model_name": "LayoutModel",
            "_view_count": null,
            "_view_module": "@jupyter-widgets/base",
            "_view_module_version": "2.0.0",
            "_view_name": "LayoutView",
            "align_content": null,
            "align_items": null,
            "align_self": null,
            "border_bottom": null,
            "border_left": null,
            "border_right": null,
            "border_top": null,
            "bottom": null,
            "display": null,
            "flex": null,
            "flex_flow": null,
            "grid_area": null,
            "grid_auto_columns": null,
            "grid_auto_flow": null,
            "grid_auto_rows": null,
            "grid_column": null,
            "grid_gap": null,
            "grid_row": null,
            "grid_template_areas": null,
            "grid_template_columns": null,
            "grid_template_rows": null,
            "height": null,
            "justify_content": null,
            "justify_items": null,
            "left": null,
            "margin": null,
            "max_height": null,
            "max_width": null,
            "min_height": null,
            "min_width": null,
            "object_fit": null,
            "object_position": null,
            "order": null,
            "overflow": null,
            "padding": null,
            "right": null,
            "top": null,
            "visibility": null,
            "width": null
          }
        },
        "f53d305edf8b4cc285d286ffc557ee6f": {
          "model_module": "@jupyter-widgets/controls",
          "model_name": "HTMLStyleModel",
          "model_module_version": "2.0.0",
          "state": {
            "_model_module": "@jupyter-widgets/controls",
            "_model_module_version": "2.0.0",
            "_model_name": "HTMLStyleModel",
            "_view_count": null,
            "_view_module": "@jupyter-widgets/base",
            "_view_module_version": "2.0.0",
            "_view_name": "StyleView",
            "background": null,
            "description_width": "",
            "font_size": null,
            "text_color": null
          }
        },
        "2d794210dc0a4b8382662b857c362728": {
          "model_module": "@jupyter-widgets/base",
          "model_name": "LayoutModel",
          "model_module_version": "2.0.0",
          "state": {
            "_model_module": "@jupyter-widgets/base",
            "_model_module_version": "2.0.0",
            "_model_name": "LayoutModel",
            "_view_count": null,
            "_view_module": "@jupyter-widgets/base",
            "_view_module_version": "2.0.0",
            "_view_name": "LayoutView",
            "align_content": null,
            "align_items": null,
            "align_self": null,
            "border_bottom": null,
            "border_left": null,
            "border_right": null,
            "border_top": null,
            "bottom": null,
            "display": null,
            "flex": null,
            "flex_flow": null,
            "grid_area": null,
            "grid_auto_columns": null,
            "grid_auto_flow": null,
            "grid_auto_rows": null,
            "grid_column": null,
            "grid_gap": null,
            "grid_row": null,
            "grid_template_areas": null,
            "grid_template_columns": null,
            "grid_template_rows": null,
            "height": null,
            "justify_content": null,
            "justify_items": null,
            "left": null,
            "margin": null,
            "max_height": null,
            "max_width": null,
            "min_height": null,
            "min_width": null,
            "object_fit": null,
            "object_position": null,
            "order": null,
            "overflow": null,
            "padding": null,
            "right": null,
            "top": null,
            "visibility": null,
            "width": null
          }
        },
        "b42033dc7d434b3e8b8071e8fc60e79c": {
          "model_module": "@jupyter-widgets/controls",
          "model_name": "ProgressStyleModel",
          "model_module_version": "2.0.0",
          "state": {
            "_model_module": "@jupyter-widgets/controls",
            "_model_module_version": "2.0.0",
            "_model_name": "ProgressStyleModel",
            "_view_count": null,
            "_view_module": "@jupyter-widgets/base",
            "_view_module_version": "2.0.0",
            "_view_name": "StyleView",
            "bar_color": null,
            "description_width": ""
          }
        },
        "e668a3635f2a4243a46881bd8b496527": {
          "model_module": "@jupyter-widgets/base",
          "model_name": "LayoutModel",
          "model_module_version": "2.0.0",
          "state": {
            "_model_module": "@jupyter-widgets/base",
            "_model_module_version": "2.0.0",
            "_model_name": "LayoutModel",
            "_view_count": null,
            "_view_module": "@jupyter-widgets/base",
            "_view_module_version": "2.0.0",
            "_view_name": "LayoutView",
            "align_content": null,
            "align_items": null,
            "align_self": null,
            "border_bottom": null,
            "border_left": null,
            "border_right": null,
            "border_top": null,
            "bottom": null,
            "display": null,
            "flex": null,
            "flex_flow": null,
            "grid_area": null,
            "grid_auto_columns": null,
            "grid_auto_flow": null,
            "grid_auto_rows": null,
            "grid_column": null,
            "grid_gap": null,
            "grid_row": null,
            "grid_template_areas": null,
            "grid_template_columns": null,
            "grid_template_rows": null,
            "height": null,
            "justify_content": null,
            "justify_items": null,
            "left": null,
            "margin": null,
            "max_height": null,
            "max_width": null,
            "min_height": null,
            "min_width": null,
            "object_fit": null,
            "object_position": null,
            "order": null,
            "overflow": null,
            "padding": null,
            "right": null,
            "top": null,
            "visibility": null,
            "width": null
          }
        },
        "cb17e877acd94d19abf87317d628d13a": {
          "model_module": "@jupyter-widgets/controls",
          "model_name": "HTMLStyleModel",
          "model_module_version": "2.0.0",
          "state": {
            "_model_module": "@jupyter-widgets/controls",
            "_model_module_version": "2.0.0",
            "_model_name": "HTMLStyleModel",
            "_view_count": null,
            "_view_module": "@jupyter-widgets/base",
            "_view_module_version": "2.0.0",
            "_view_name": "StyleView",
            "background": null,
            "description_width": "",
            "font_size": null,
            "text_color": null
          }
        },
        "33df8bfd56f34423ac770876a71e2ab8": {
          "model_module": "@jupyter-widgets/controls",
          "model_name": "HBoxModel",
          "model_module_version": "2.0.0",
          "state": {
            "_dom_classes": [],
            "_model_module": "@jupyter-widgets/controls",
            "_model_module_version": "2.0.0",
            "_model_name": "HBoxModel",
            "_view_count": null,
            "_view_module": "@jupyter-widgets/controls",
            "_view_module_version": "2.0.0",
            "_view_name": "HBoxView",
            "box_style": "",
            "children": [
              "IPY_MODEL_de165f805b09486299c22ef1ecc1f94e",
              "IPY_MODEL_9283f32c63964e89953eccef41ff5712",
              "IPY_MODEL_de5acbd639694f6c9deeaa01f5efe961"
            ],
            "layout": "IPY_MODEL_424fa26e84754ca9840eb839823ba2a3",
            "tabbable": null,
            "tooltip": null
          }
        },
        "de165f805b09486299c22ef1ecc1f94e": {
          "model_module": "@jupyter-widgets/controls",
          "model_name": "HTMLModel",
          "model_module_version": "2.0.0",
          "state": {
            "_dom_classes": [],
            "_model_module": "@jupyter-widgets/controls",
            "_model_module_version": "2.0.0",
            "_model_name": "HTMLModel",
            "_view_count": null,
            "_view_module": "@jupyter-widgets/controls",
            "_view_module_version": "2.0.0",
            "_view_name": "HTMLView",
            "description": "",
            "description_allow_html": false,
            "layout": "IPY_MODEL_220f10ddb9ca4e338965f3537fbb0a78",
            "placeholder": "​",
            "style": "IPY_MODEL_686da74ae54a4d65ab8e03949ace8846",
            "tabbable": null,
            "tooltip": null,
            "value": "Downloading: 100%"
          }
        },
        "9283f32c63964e89953eccef41ff5712": {
          "model_module": "@jupyter-widgets/controls",
          "model_name": "FloatProgressModel",
          "model_module_version": "2.0.0",
          "state": {
            "_dom_classes": [],
            "_model_module": "@jupyter-widgets/controls",
            "_model_module_version": "2.0.0",
            "_model_name": "FloatProgressModel",
            "_view_count": null,
            "_view_module": "@jupyter-widgets/controls",
            "_view_module_version": "2.0.0",
            "_view_name": "ProgressView",
            "bar_style": "success",
            "description": "",
            "description_allow_html": false,
            "layout": "IPY_MODEL_89f84403d9a048c2a58cbda1017eb3ef",
            "max": 898822,
            "min": 0,
            "orientation": "horizontal",
            "style": "IPY_MODEL_b5ff56fd1ea0419fbd3fa546199386b5",
            "tabbable": null,
            "tooltip": null,
            "value": 898822
          }
        },
        "de5acbd639694f6c9deeaa01f5efe961": {
          "model_module": "@jupyter-widgets/controls",
          "model_name": "HTMLModel",
          "model_module_version": "2.0.0",
          "state": {
            "_dom_classes": [],
            "_model_module": "@jupyter-widgets/controls",
            "_model_module_version": "2.0.0",
            "_model_name": "HTMLModel",
            "_view_count": null,
            "_view_module": "@jupyter-widgets/controls",
            "_view_module_version": "2.0.0",
            "_view_name": "HTMLView",
            "description": "",
            "description_allow_html": false,
            "layout": "IPY_MODEL_3a903e644c5d41f7b83059bfa5bf37cc",
            "placeholder": "​",
            "style": "IPY_MODEL_4ca75b01242f401f91eea53e72d5737f",
            "tabbable": null,
            "tooltip": null,
            "value": " 899k/899k [00:00&lt;00:00, 1.55MB/s]"
          }
        },
        "424fa26e84754ca9840eb839823ba2a3": {
          "model_module": "@jupyter-widgets/base",
          "model_name": "LayoutModel",
          "model_module_version": "2.0.0",
          "state": {
            "_model_module": "@jupyter-widgets/base",
            "_model_module_version": "2.0.0",
            "_model_name": "LayoutModel",
            "_view_count": null,
            "_view_module": "@jupyter-widgets/base",
            "_view_module_version": "2.0.0",
            "_view_name": "LayoutView",
            "align_content": null,
            "align_items": null,
            "align_self": null,
            "border_bottom": null,
            "border_left": null,
            "border_right": null,
            "border_top": null,
            "bottom": null,
            "display": null,
            "flex": null,
            "flex_flow": null,
            "grid_area": null,
            "grid_auto_columns": null,
            "grid_auto_flow": null,
            "grid_auto_rows": null,
            "grid_column": null,
            "grid_gap": null,
            "grid_row": null,
            "grid_template_areas": null,
            "grid_template_columns": null,
            "grid_template_rows": null,
            "height": null,
            "justify_content": null,
            "justify_items": null,
            "left": null,
            "margin": null,
            "max_height": null,
            "max_width": null,
            "min_height": null,
            "min_width": null,
            "object_fit": null,
            "object_position": null,
            "order": null,
            "overflow": null,
            "padding": null,
            "right": null,
            "top": null,
            "visibility": null,
            "width": null
          }
        },
        "220f10ddb9ca4e338965f3537fbb0a78": {
          "model_module": "@jupyter-widgets/base",
          "model_name": "LayoutModel",
          "model_module_version": "2.0.0",
          "state": {
            "_model_module": "@jupyter-widgets/base",
            "_model_module_version": "2.0.0",
            "_model_name": "LayoutModel",
            "_view_count": null,
            "_view_module": "@jupyter-widgets/base",
            "_view_module_version": "2.0.0",
            "_view_name": "LayoutView",
            "align_content": null,
            "align_items": null,
            "align_self": null,
            "border_bottom": null,
            "border_left": null,
            "border_right": null,
            "border_top": null,
            "bottom": null,
            "display": null,
            "flex": null,
            "flex_flow": null,
            "grid_area": null,
            "grid_auto_columns": null,
            "grid_auto_flow": null,
            "grid_auto_rows": null,
            "grid_column": null,
            "grid_gap": null,
            "grid_row": null,
            "grid_template_areas": null,
            "grid_template_columns": null,
            "grid_template_rows": null,
            "height": null,
            "justify_content": null,
            "justify_items": null,
            "left": null,
            "margin": null,
            "max_height": null,
            "max_width": null,
            "min_height": null,
            "min_width": null,
            "object_fit": null,
            "object_position": null,
            "order": null,
            "overflow": null,
            "padding": null,
            "right": null,
            "top": null,
            "visibility": null,
            "width": null
          }
        },
        "686da74ae54a4d65ab8e03949ace8846": {
          "model_module": "@jupyter-widgets/controls",
          "model_name": "HTMLStyleModel",
          "model_module_version": "2.0.0",
          "state": {
            "_model_module": "@jupyter-widgets/controls",
            "_model_module_version": "2.0.0",
            "_model_name": "HTMLStyleModel",
            "_view_count": null,
            "_view_module": "@jupyter-widgets/base",
            "_view_module_version": "2.0.0",
            "_view_name": "StyleView",
            "background": null,
            "description_width": "",
            "font_size": null,
            "text_color": null
          }
        },
        "89f84403d9a048c2a58cbda1017eb3ef": {
          "model_module": "@jupyter-widgets/base",
          "model_name": "LayoutModel",
          "model_module_version": "2.0.0",
          "state": {
            "_model_module": "@jupyter-widgets/base",
            "_model_module_version": "2.0.0",
            "_model_name": "LayoutModel",
            "_view_count": null,
            "_view_module": "@jupyter-widgets/base",
            "_view_module_version": "2.0.0",
            "_view_name": "LayoutView",
            "align_content": null,
            "align_items": null,
            "align_self": null,
            "border_bottom": null,
            "border_left": null,
            "border_right": null,
            "border_top": null,
            "bottom": null,
            "display": null,
            "flex": null,
            "flex_flow": null,
            "grid_area": null,
            "grid_auto_columns": null,
            "grid_auto_flow": null,
            "grid_auto_rows": null,
            "grid_column": null,
            "grid_gap": null,
            "grid_row": null,
            "grid_template_areas": null,
            "grid_template_columns": null,
            "grid_template_rows": null,
            "height": null,
            "justify_content": null,
            "justify_items": null,
            "left": null,
            "margin": null,
            "max_height": null,
            "max_width": null,
            "min_height": null,
            "min_width": null,
            "object_fit": null,
            "object_position": null,
            "order": null,
            "overflow": null,
            "padding": null,
            "right": null,
            "top": null,
            "visibility": null,
            "width": null
          }
        },
        "b5ff56fd1ea0419fbd3fa546199386b5": {
          "model_module": "@jupyter-widgets/controls",
          "model_name": "ProgressStyleModel",
          "model_module_version": "2.0.0",
          "state": {
            "_model_module": "@jupyter-widgets/controls",
            "_model_module_version": "2.0.0",
            "_model_name": "ProgressStyleModel",
            "_view_count": null,
            "_view_module": "@jupyter-widgets/base",
            "_view_module_version": "2.0.0",
            "_view_name": "StyleView",
            "bar_color": null,
            "description_width": ""
          }
        },
        "3a903e644c5d41f7b83059bfa5bf37cc": {
          "model_module": "@jupyter-widgets/base",
          "model_name": "LayoutModel",
          "model_module_version": "2.0.0",
          "state": {
            "_model_module": "@jupyter-widgets/base",
            "_model_module_version": "2.0.0",
            "_model_name": "LayoutModel",
            "_view_count": null,
            "_view_module": "@jupyter-widgets/base",
            "_view_module_version": "2.0.0",
            "_view_name": "LayoutView",
            "align_content": null,
            "align_items": null,
            "align_self": null,
            "border_bottom": null,
            "border_left": null,
            "border_right": null,
            "border_top": null,
            "bottom": null,
            "display": null,
            "flex": null,
            "flex_flow": null,
            "grid_area": null,
            "grid_auto_columns": null,
            "grid_auto_flow": null,
            "grid_auto_rows": null,
            "grid_column": null,
            "grid_gap": null,
            "grid_row": null,
            "grid_template_areas": null,
            "grid_template_columns": null,
            "grid_template_rows": null,
            "height": null,
            "justify_content": null,
            "justify_items": null,
            "left": null,
            "margin": null,
            "max_height": null,
            "max_width": null,
            "min_height": null,
            "min_width": null,
            "object_fit": null,
            "object_position": null,
            "order": null,
            "overflow": null,
            "padding": null,
            "right": null,
            "top": null,
            "visibility": null,
            "width": null
          }
        },
        "4ca75b01242f401f91eea53e72d5737f": {
          "model_module": "@jupyter-widgets/controls",
          "model_name": "HTMLStyleModel",
          "model_module_version": "2.0.0",
          "state": {
            "_model_module": "@jupyter-widgets/controls",
            "_model_module_version": "2.0.0",
            "_model_name": "HTMLStyleModel",
            "_view_count": null,
            "_view_module": "@jupyter-widgets/base",
            "_view_module_version": "2.0.0",
            "_view_name": "StyleView",
            "background": null,
            "description_width": "",
            "font_size": null,
            "text_color": null
          }
        },
        "93d602f6f9f74251aca8f14d46c82478": {
          "model_module": "@jupyter-widgets/controls",
          "model_name": "HBoxModel",
          "model_module_version": "2.0.0",
          "state": {
            "_dom_classes": [],
            "_model_module": "@jupyter-widgets/controls",
            "_model_module_version": "2.0.0",
            "_model_name": "HBoxModel",
            "_view_count": null,
            "_view_module": "@jupyter-widgets/controls",
            "_view_module_version": "2.0.0",
            "_view_name": "HBoxView",
            "box_style": "",
            "children": [
              "IPY_MODEL_7c4c97b9423b4acfb89d59aa18a810de",
              "IPY_MODEL_50a08fb220f4471ab5bea4e35e49e467",
              "IPY_MODEL_64010cd3701a4e5592892f2a939598e4"
            ],
            "layout": "IPY_MODEL_3940d443413a49c08a91398e11a31fc0",
            "tabbable": null,
            "tooltip": null
          }
        },
        "7c4c97b9423b4acfb89d59aa18a810de": {
          "model_module": "@jupyter-widgets/controls",
          "model_name": "HTMLModel",
          "model_module_version": "2.0.0",
          "state": {
            "_dom_classes": [],
            "_model_module": "@jupyter-widgets/controls",
            "_model_module_version": "2.0.0",
            "_model_name": "HTMLModel",
            "_view_count": null,
            "_view_module": "@jupyter-widgets/controls",
            "_view_module_version": "2.0.0",
            "_view_name": "HTMLView",
            "description": "",
            "description_allow_html": false,
            "layout": "IPY_MODEL_03463b5d00ab4d1c8418d0f8ec0bfffe",
            "placeholder": "​",
            "style": "IPY_MODEL_5204aadeb3884b52a1e56293d1bfe0fa",
            "tabbable": null,
            "tooltip": null,
            "value": "Downloading: 100%"
          }
        },
        "50a08fb220f4471ab5bea4e35e49e467": {
          "model_module": "@jupyter-widgets/controls",
          "model_name": "FloatProgressModel",
          "model_module_version": "2.0.0",
          "state": {
            "_dom_classes": [],
            "_model_module": "@jupyter-widgets/controls",
            "_model_module_version": "2.0.0",
            "_model_name": "FloatProgressModel",
            "_view_count": null,
            "_view_module": "@jupyter-widgets/controls",
            "_view_module_version": "2.0.0",
            "_view_name": "ProgressView",
            "bar_style": "success",
            "description": "",
            "description_allow_html": false,
            "layout": "IPY_MODEL_bd9808ed2e8745a6ba714f0e59150d54",
            "max": 456318,
            "min": 0,
            "orientation": "horizontal",
            "style": "IPY_MODEL_8eef69a30b604eddb94cb10c3838b481",
            "tabbable": null,
            "tooltip": null,
            "value": 456318
          }
        },
        "64010cd3701a4e5592892f2a939598e4": {
          "model_module": "@jupyter-widgets/controls",
          "model_name": "HTMLModel",
          "model_module_version": "2.0.0",
          "state": {
            "_dom_classes": [],
            "_model_module": "@jupyter-widgets/controls",
            "_model_module_version": "2.0.0",
            "_model_name": "HTMLModel",
            "_view_count": null,
            "_view_module": "@jupyter-widgets/controls",
            "_view_module_version": "2.0.0",
            "_view_name": "HTMLView",
            "description": "",
            "description_allow_html": false,
            "layout": "IPY_MODEL_936998c26c6f4a4d9f3d6ccb6b9ad2b8",
            "placeholder": "​",
            "style": "IPY_MODEL_fd574a80d8ff4ba7ac36bf3a5d032310",
            "tabbable": null,
            "tooltip": null,
            "value": " 456k/456k [00:00&lt;00:00, 1.05MB/s]"
          }
        },
        "3940d443413a49c08a91398e11a31fc0": {
          "model_module": "@jupyter-widgets/base",
          "model_name": "LayoutModel",
          "model_module_version": "2.0.0",
          "state": {
            "_model_module": "@jupyter-widgets/base",
            "_model_module_version": "2.0.0",
            "_model_name": "LayoutModel",
            "_view_count": null,
            "_view_module": "@jupyter-widgets/base",
            "_view_module_version": "2.0.0",
            "_view_name": "LayoutView",
            "align_content": null,
            "align_items": null,
            "align_self": null,
            "border_bottom": null,
            "border_left": null,
            "border_right": null,
            "border_top": null,
            "bottom": null,
            "display": null,
            "flex": null,
            "flex_flow": null,
            "grid_area": null,
            "grid_auto_columns": null,
            "grid_auto_flow": null,
            "grid_auto_rows": null,
            "grid_column": null,
            "grid_gap": null,
            "grid_row": null,
            "grid_template_areas": null,
            "grid_template_columns": null,
            "grid_template_rows": null,
            "height": null,
            "justify_content": null,
            "justify_items": null,
            "left": null,
            "margin": null,
            "max_height": null,
            "max_width": null,
            "min_height": null,
            "min_width": null,
            "object_fit": null,
            "object_position": null,
            "order": null,
            "overflow": null,
            "padding": null,
            "right": null,
            "top": null,
            "visibility": null,
            "width": null
          }
        },
        "03463b5d00ab4d1c8418d0f8ec0bfffe": {
          "model_module": "@jupyter-widgets/base",
          "model_name": "LayoutModel",
          "model_module_version": "2.0.0",
          "state": {
            "_model_module": "@jupyter-widgets/base",
            "_model_module_version": "2.0.0",
            "_model_name": "LayoutModel",
            "_view_count": null,
            "_view_module": "@jupyter-widgets/base",
            "_view_module_version": "2.0.0",
            "_view_name": "LayoutView",
            "align_content": null,
            "align_items": null,
            "align_self": null,
            "border_bottom": null,
            "border_left": null,
            "border_right": null,
            "border_top": null,
            "bottom": null,
            "display": null,
            "flex": null,
            "flex_flow": null,
            "grid_area": null,
            "grid_auto_columns": null,
            "grid_auto_flow": null,
            "grid_auto_rows": null,
            "grid_column": null,
            "grid_gap": null,
            "grid_row": null,
            "grid_template_areas": null,
            "grid_template_columns": null,
            "grid_template_rows": null,
            "height": null,
            "justify_content": null,
            "justify_items": null,
            "left": null,
            "margin": null,
            "max_height": null,
            "max_width": null,
            "min_height": null,
            "min_width": null,
            "object_fit": null,
            "object_position": null,
            "order": null,
            "overflow": null,
            "padding": null,
            "right": null,
            "top": null,
            "visibility": null,
            "width": null
          }
        },
        "5204aadeb3884b52a1e56293d1bfe0fa": {
          "model_module": "@jupyter-widgets/controls",
          "model_name": "HTMLStyleModel",
          "model_module_version": "2.0.0",
          "state": {
            "_model_module": "@jupyter-widgets/controls",
            "_model_module_version": "2.0.0",
            "_model_name": "HTMLStyleModel",
            "_view_count": null,
            "_view_module": "@jupyter-widgets/base",
            "_view_module_version": "2.0.0",
            "_view_name": "StyleView",
            "background": null,
            "description_width": "",
            "font_size": null,
            "text_color": null
          }
        },
        "bd9808ed2e8745a6ba714f0e59150d54": {
          "model_module": "@jupyter-widgets/base",
          "model_name": "LayoutModel",
          "model_module_version": "2.0.0",
          "state": {
            "_model_module": "@jupyter-widgets/base",
            "_model_module_version": "2.0.0",
            "_model_name": "LayoutModel",
            "_view_count": null,
            "_view_module": "@jupyter-widgets/base",
            "_view_module_version": "2.0.0",
            "_view_name": "LayoutView",
            "align_content": null,
            "align_items": null,
            "align_self": null,
            "border_bottom": null,
            "border_left": null,
            "border_right": null,
            "border_top": null,
            "bottom": null,
            "display": null,
            "flex": null,
            "flex_flow": null,
            "grid_area": null,
            "grid_auto_columns": null,
            "grid_auto_flow": null,
            "grid_auto_rows": null,
            "grid_column": null,
            "grid_gap": null,
            "grid_row": null,
            "grid_template_areas": null,
            "grid_template_columns": null,
            "grid_template_rows": null,
            "height": null,
            "justify_content": null,
            "justify_items": null,
            "left": null,
            "margin": null,
            "max_height": null,
            "max_width": null,
            "min_height": null,
            "min_width": null,
            "object_fit": null,
            "object_position": null,
            "order": null,
            "overflow": null,
            "padding": null,
            "right": null,
            "top": null,
            "visibility": null,
            "width": null
          }
        },
        "8eef69a30b604eddb94cb10c3838b481": {
          "model_module": "@jupyter-widgets/controls",
          "model_name": "ProgressStyleModel",
          "model_module_version": "2.0.0",
          "state": {
            "_model_module": "@jupyter-widgets/controls",
            "_model_module_version": "2.0.0",
            "_model_name": "ProgressStyleModel",
            "_view_count": null,
            "_view_module": "@jupyter-widgets/base",
            "_view_module_version": "2.0.0",
            "_view_name": "StyleView",
            "bar_color": null,
            "description_width": ""
          }
        },
        "936998c26c6f4a4d9f3d6ccb6b9ad2b8": {
          "model_module": "@jupyter-widgets/base",
          "model_name": "LayoutModel",
          "model_module_version": "2.0.0",
          "state": {
            "_model_module": "@jupyter-widgets/base",
            "_model_module_version": "2.0.0",
            "_model_name": "LayoutModel",
            "_view_count": null,
            "_view_module": "@jupyter-widgets/base",
            "_view_module_version": "2.0.0",
            "_view_name": "LayoutView",
            "align_content": null,
            "align_items": null,
            "align_self": null,
            "border_bottom": null,
            "border_left": null,
            "border_right": null,
            "border_top": null,
            "bottom": null,
            "display": null,
            "flex": null,
            "flex_flow": null,
            "grid_area": null,
            "grid_auto_columns": null,
            "grid_auto_flow": null,
            "grid_auto_rows": null,
            "grid_column": null,
            "grid_gap": null,
            "grid_row": null,
            "grid_template_areas": null,
            "grid_template_columns": null,
            "grid_template_rows": null,
            "height": null,
            "justify_content": null,
            "justify_items": null,
            "left": null,
            "margin": null,
            "max_height": null,
            "max_width": null,
            "min_height": null,
            "min_width": null,
            "object_fit": null,
            "object_position": null,
            "order": null,
            "overflow": null,
            "padding": null,
            "right": null,
            "top": null,
            "visibility": null,
            "width": null
          }
        },
        "fd574a80d8ff4ba7ac36bf3a5d032310": {
          "model_module": "@jupyter-widgets/controls",
          "model_name": "HTMLStyleModel",
          "model_module_version": "2.0.0",
          "state": {
            "_model_module": "@jupyter-widgets/controls",
            "_model_module_version": "2.0.0",
            "_model_name": "HTMLStyleModel",
            "_view_count": null,
            "_view_module": "@jupyter-widgets/base",
            "_view_module_version": "2.0.0",
            "_view_name": "StyleView",
            "background": null,
            "description_width": "",
            "font_size": null,
            "text_color": null
          }
        },
        "66b84d668bf34efe8cc41ea922232aeb": {
          "model_module": "@jupyter-widgets/controls",
          "model_name": "HBoxModel",
          "model_module_version": "2.0.0",
          "state": {
            "_dom_classes": [],
            "_model_module": "@jupyter-widgets/controls",
            "_model_module_version": "2.0.0",
            "_model_name": "HBoxModel",
            "_view_count": null,
            "_view_module": "@jupyter-widgets/controls",
            "_view_module_version": "2.0.0",
            "_view_name": "HBoxView",
            "box_style": "",
            "children": [
              "IPY_MODEL_f48ac32fc0c74deda818376c760c3f0f",
              "IPY_MODEL_45938f3cf4df4bad97b635cc5cb9fd0f",
              "IPY_MODEL_04b423b0f25f482fb0a6c41657cd3ed0"
            ],
            "layout": "IPY_MODEL_d6ec27c0902d4c84bf85fcc5e32442f7",
            "tabbable": null,
            "tooltip": null
          }
        },
        "f48ac32fc0c74deda818376c760c3f0f": {
          "model_module": "@jupyter-widgets/controls",
          "model_name": "HTMLModel",
          "model_module_version": "2.0.0",
          "state": {
            "_dom_classes": [],
            "_model_module": "@jupyter-widgets/controls",
            "_model_module_version": "2.0.0",
            "_model_name": "HTMLModel",
            "_view_count": null,
            "_view_module": "@jupyter-widgets/controls",
            "_view_module_version": "2.0.0",
            "_view_name": "HTMLView",
            "description": "",
            "description_allow_html": false,
            "layout": "IPY_MODEL_956789f0dd14405d8711e97b8034f362",
            "placeholder": "​",
            "style": "IPY_MODEL_b86731fb1d2f405ca60afb29189d120e",
            "tabbable": null,
            "tooltip": null,
            "value": "Downloading: 100%"
          }
        },
        "45938f3cf4df4bad97b635cc5cb9fd0f": {
          "model_module": "@jupyter-widgets/controls",
          "model_name": "FloatProgressModel",
          "model_module_version": "2.0.0",
          "state": {
            "_dom_classes": [],
            "_model_module": "@jupyter-widgets/controls",
            "_model_module_version": "2.0.0",
            "_model_name": "FloatProgressModel",
            "_view_count": null,
            "_view_module": "@jupyter-widgets/controls",
            "_view_module_version": "2.0.0",
            "_view_name": "ProgressView",
            "bar_style": "success",
            "description": "",
            "description_allow_html": false,
            "layout": "IPY_MODEL_d0837c71cc6a4e9587f61fbca4243067",
            "max": 150,
            "min": 0,
            "orientation": "horizontal",
            "style": "IPY_MODEL_01bf1420f9dd4e64b8cbcd274b1601a0",
            "tabbable": null,
            "tooltip": null,
            "value": 150
          }
        },
        "04b423b0f25f482fb0a6c41657cd3ed0": {
          "model_module": "@jupyter-widgets/controls",
          "model_name": "HTMLModel",
          "model_module_version": "2.0.0",
          "state": {
            "_dom_classes": [],
            "_model_module": "@jupyter-widgets/controls",
            "_model_module_version": "2.0.0",
            "_model_name": "HTMLModel",
            "_view_count": null,
            "_view_module": "@jupyter-widgets/controls",
            "_view_module_version": "2.0.0",
            "_view_name": "HTMLView",
            "description": "",
            "description_allow_html": false,
            "layout": "IPY_MODEL_4fedcd7690ce42e888e30fbb7823d0c9",
            "placeholder": "​",
            "style": "IPY_MODEL_0e4afaad3e0e4ddcbbe3a1a4d0c13389",
            "tabbable": null,
            "tooltip": null,
            "value": " 150/150 [00:00&lt;00:00, 1.43kB/s]"
          }
        },
        "d6ec27c0902d4c84bf85fcc5e32442f7": {
          "model_module": "@jupyter-widgets/base",
          "model_name": "LayoutModel",
          "model_module_version": "2.0.0",
          "state": {
            "_model_module": "@jupyter-widgets/base",
            "_model_module_version": "2.0.0",
            "_model_name": "LayoutModel",
            "_view_count": null,
            "_view_module": "@jupyter-widgets/base",
            "_view_module_version": "2.0.0",
            "_view_name": "LayoutView",
            "align_content": null,
            "align_items": null,
            "align_self": null,
            "border_bottom": null,
            "border_left": null,
            "border_right": null,
            "border_top": null,
            "bottom": null,
            "display": null,
            "flex": null,
            "flex_flow": null,
            "grid_area": null,
            "grid_auto_columns": null,
            "grid_auto_flow": null,
            "grid_auto_rows": null,
            "grid_column": null,
            "grid_gap": null,
            "grid_row": null,
            "grid_template_areas": null,
            "grid_template_columns": null,
            "grid_template_rows": null,
            "height": null,
            "justify_content": null,
            "justify_items": null,
            "left": null,
            "margin": null,
            "max_height": null,
            "max_width": null,
            "min_height": null,
            "min_width": null,
            "object_fit": null,
            "object_position": null,
            "order": null,
            "overflow": null,
            "padding": null,
            "right": null,
            "top": null,
            "visibility": null,
            "width": null
          }
        },
        "956789f0dd14405d8711e97b8034f362": {
          "model_module": "@jupyter-widgets/base",
          "model_name": "LayoutModel",
          "model_module_version": "2.0.0",
          "state": {
            "_model_module": "@jupyter-widgets/base",
            "_model_module_version": "2.0.0",
            "_model_name": "LayoutModel",
            "_view_count": null,
            "_view_module": "@jupyter-widgets/base",
            "_view_module_version": "2.0.0",
            "_view_name": "LayoutView",
            "align_content": null,
            "align_items": null,
            "align_self": null,
            "border_bottom": null,
            "border_left": null,
            "border_right": null,
            "border_top": null,
            "bottom": null,
            "display": null,
            "flex": null,
            "flex_flow": null,
            "grid_area": null,
            "grid_auto_columns": null,
            "grid_auto_flow": null,
            "grid_auto_rows": null,
            "grid_column": null,
            "grid_gap": null,
            "grid_row": null,
            "grid_template_areas": null,
            "grid_template_columns": null,
            "grid_template_rows": null,
            "height": null,
            "justify_content": null,
            "justify_items": null,
            "left": null,
            "margin": null,
            "max_height": null,
            "max_width": null,
            "min_height": null,
            "min_width": null,
            "object_fit": null,
            "object_position": null,
            "order": null,
            "overflow": null,
            "padding": null,
            "right": null,
            "top": null,
            "visibility": null,
            "width": null
          }
        },
        "b86731fb1d2f405ca60afb29189d120e": {
          "model_module": "@jupyter-widgets/controls",
          "model_name": "HTMLStyleModel",
          "model_module_version": "2.0.0",
          "state": {
            "_model_module": "@jupyter-widgets/controls",
            "_model_module_version": "2.0.0",
            "_model_name": "HTMLStyleModel",
            "_view_count": null,
            "_view_module": "@jupyter-widgets/base",
            "_view_module_version": "2.0.0",
            "_view_name": "StyleView",
            "background": null,
            "description_width": "",
            "font_size": null,
            "text_color": null
          }
        },
        "d0837c71cc6a4e9587f61fbca4243067": {
          "model_module": "@jupyter-widgets/base",
          "model_name": "LayoutModel",
          "model_module_version": "2.0.0",
          "state": {
            "_model_module": "@jupyter-widgets/base",
            "_model_module_version": "2.0.0",
            "_model_name": "LayoutModel",
            "_view_count": null,
            "_view_module": "@jupyter-widgets/base",
            "_view_module_version": "2.0.0",
            "_view_name": "LayoutView",
            "align_content": null,
            "align_items": null,
            "align_self": null,
            "border_bottom": null,
            "border_left": null,
            "border_right": null,
            "border_top": null,
            "bottom": null,
            "display": null,
            "flex": null,
            "flex_flow": null,
            "grid_area": null,
            "grid_auto_columns": null,
            "grid_auto_flow": null,
            "grid_auto_rows": null,
            "grid_column": null,
            "grid_gap": null,
            "grid_row": null,
            "grid_template_areas": null,
            "grid_template_columns": null,
            "grid_template_rows": null,
            "height": null,
            "justify_content": null,
            "justify_items": null,
            "left": null,
            "margin": null,
            "max_height": null,
            "max_width": null,
            "min_height": null,
            "min_width": null,
            "object_fit": null,
            "object_position": null,
            "order": null,
            "overflow": null,
            "padding": null,
            "right": null,
            "top": null,
            "visibility": null,
            "width": null
          }
        },
        "01bf1420f9dd4e64b8cbcd274b1601a0": {
          "model_module": "@jupyter-widgets/controls",
          "model_name": "ProgressStyleModel",
          "model_module_version": "2.0.0",
          "state": {
            "_model_module": "@jupyter-widgets/controls",
            "_model_module_version": "2.0.0",
            "_model_name": "ProgressStyleModel",
            "_view_count": null,
            "_view_module": "@jupyter-widgets/base",
            "_view_module_version": "2.0.0",
            "_view_name": "StyleView",
            "bar_color": null,
            "description_width": ""
          }
        },
        "4fedcd7690ce42e888e30fbb7823d0c9": {
          "model_module": "@jupyter-widgets/base",
          "model_name": "LayoutModel",
          "model_module_version": "2.0.0",
          "state": {
            "_model_module": "@jupyter-widgets/base",
            "_model_module_version": "2.0.0",
            "_model_name": "LayoutModel",
            "_view_count": null,
            "_view_module": "@jupyter-widgets/base",
            "_view_module_version": "2.0.0",
            "_view_name": "LayoutView",
            "align_content": null,
            "align_items": null,
            "align_self": null,
            "border_bottom": null,
            "border_left": null,
            "border_right": null,
            "border_top": null,
            "bottom": null,
            "display": null,
            "flex": null,
            "flex_flow": null,
            "grid_area": null,
            "grid_auto_columns": null,
            "grid_auto_flow": null,
            "grid_auto_rows": null,
            "grid_column": null,
            "grid_gap": null,
            "grid_row": null,
            "grid_template_areas": null,
            "grid_template_columns": null,
            "grid_template_rows": null,
            "height": null,
            "justify_content": null,
            "justify_items": null,
            "left": null,
            "margin": null,
            "max_height": null,
            "max_width": null,
            "min_height": null,
            "min_width": null,
            "object_fit": null,
            "object_position": null,
            "order": null,
            "overflow": null,
            "padding": null,
            "right": null,
            "top": null,
            "visibility": null,
            "width": null
          }
        },
        "0e4afaad3e0e4ddcbbe3a1a4d0c13389": {
          "model_module": "@jupyter-widgets/controls",
          "model_name": "HTMLStyleModel",
          "model_module_version": "2.0.0",
          "state": {
            "_model_module": "@jupyter-widgets/controls",
            "_model_module_version": "2.0.0",
            "_model_name": "HTMLStyleModel",
            "_view_count": null,
            "_view_module": "@jupyter-widgets/base",
            "_view_module_version": "2.0.0",
            "_view_name": "StyleView",
            "background": null,
            "description_width": "",
            "font_size": null,
            "text_color": null
          }
        },
        "cad931854860487c9934ddf83e7ca9cf": {
          "model_module": "@jupyter-widgets/controls",
          "model_name": "HBoxModel",
          "model_module_version": "2.0.0",
          "state": {
            "_dom_classes": [],
            "_model_module": "@jupyter-widgets/controls",
            "_model_module_version": "2.0.0",
            "_model_name": "HBoxModel",
            "_view_count": null,
            "_view_module": "@jupyter-widgets/controls",
            "_view_module_version": "2.0.0",
            "_view_name": "HBoxView",
            "box_style": "",
            "children": [
              "IPY_MODEL_ef89d73d58404a7aa2e36c512aab86cd",
              "IPY_MODEL_3e2b5b2b9cf347c9be93442ac47adcd1",
              "IPY_MODEL_8f07db707f2b4d85a1049b30963d5a00"
            ],
            "layout": "IPY_MODEL_212fa65b76084667ad2e4bf7173e6b7a",
            "tabbable": null,
            "tooltip": null
          }
        },
        "ef89d73d58404a7aa2e36c512aab86cd": {
          "model_module": "@jupyter-widgets/controls",
          "model_name": "HTMLModel",
          "model_module_version": "2.0.0",
          "state": {
            "_dom_classes": [],
            "_model_module": "@jupyter-widgets/controls",
            "_model_module_version": "2.0.0",
            "_model_name": "HTMLModel",
            "_view_count": null,
            "_view_module": "@jupyter-widgets/controls",
            "_view_module_version": "2.0.0",
            "_view_name": "HTMLView",
            "description": "",
            "description_allow_html": false,
            "layout": "IPY_MODEL_87fdef3188284c9fbde6867745e19834",
            "placeholder": "​",
            "style": "IPY_MODEL_2bc6f760522e47a88c49f6c4604988ce",
            "tabbable": null,
            "tooltip": null,
            "value": "Downloading: 100%"
          }
        },
        "3e2b5b2b9cf347c9be93442ac47adcd1": {
          "model_module": "@jupyter-widgets/controls",
          "model_name": "FloatProgressModel",
          "model_module_version": "2.0.0",
          "state": {
            "_dom_classes": [],
            "_model_module": "@jupyter-widgets/controls",
            "_model_module_version": "2.0.0",
            "_model_name": "FloatProgressModel",
            "_view_count": null,
            "_view_module": "@jupyter-widgets/controls",
            "_view_module_version": "2.0.0",
            "_view_name": "ProgressView",
            "bar_style": "success",
            "description": "",
            "description_allow_html": false,
            "layout": "IPY_MODEL_2095f30f913c4d73b71b662b04e49434",
            "max": 498627950,
            "min": 0,
            "orientation": "horizontal",
            "style": "IPY_MODEL_dba356e1317c448bb1acaf9965220739",
            "tabbable": null,
            "tooltip": null,
            "value": 498627950
          }
        },
        "8f07db707f2b4d85a1049b30963d5a00": {
          "model_module": "@jupyter-widgets/controls",
          "model_name": "HTMLModel",
          "model_module_version": "2.0.0",
          "state": {
            "_dom_classes": [],
            "_model_module": "@jupyter-widgets/controls",
            "_model_module_version": "2.0.0",
            "_model_name": "HTMLModel",
            "_view_count": null,
            "_view_module": "@jupyter-widgets/controls",
            "_view_module_version": "2.0.0",
            "_view_name": "HTMLView",
            "description": "",
            "description_allow_html": false,
            "layout": "IPY_MODEL_919444c9323e43f78205a96414ed01ac",
            "placeholder": "​",
            "style": "IPY_MODEL_09d295e7140845aebabe7c035e624e91",
            "tabbable": null,
            "tooltip": null,
            "value": " 499M/499M [01:25&lt;00:00, 8.56MB/s]"
          }
        },
        "212fa65b76084667ad2e4bf7173e6b7a": {
          "model_module": "@jupyter-widgets/base",
          "model_name": "LayoutModel",
          "model_module_version": "2.0.0",
          "state": {
            "_model_module": "@jupyter-widgets/base",
            "_model_module_version": "2.0.0",
            "_model_name": "LayoutModel",
            "_view_count": null,
            "_view_module": "@jupyter-widgets/base",
            "_view_module_version": "2.0.0",
            "_view_name": "LayoutView",
            "align_content": null,
            "align_items": null,
            "align_self": null,
            "border_bottom": null,
            "border_left": null,
            "border_right": null,
            "border_top": null,
            "bottom": null,
            "display": null,
            "flex": null,
            "flex_flow": null,
            "grid_area": null,
            "grid_auto_columns": null,
            "grid_auto_flow": null,
            "grid_auto_rows": null,
            "grid_column": null,
            "grid_gap": null,
            "grid_row": null,
            "grid_template_areas": null,
            "grid_template_columns": null,
            "grid_template_rows": null,
            "height": null,
            "justify_content": null,
            "justify_items": null,
            "left": null,
            "margin": null,
            "max_height": null,
            "max_width": null,
            "min_height": null,
            "min_width": null,
            "object_fit": null,
            "object_position": null,
            "order": null,
            "overflow": null,
            "padding": null,
            "right": null,
            "top": null,
            "visibility": null,
            "width": null
          }
        },
        "87fdef3188284c9fbde6867745e19834": {
          "model_module": "@jupyter-widgets/base",
          "model_name": "LayoutModel",
          "model_module_version": "2.0.0",
          "state": {
            "_model_module": "@jupyter-widgets/base",
            "_model_module_version": "2.0.0",
            "_model_name": "LayoutModel",
            "_view_count": null,
            "_view_module": "@jupyter-widgets/base",
            "_view_module_version": "2.0.0",
            "_view_name": "LayoutView",
            "align_content": null,
            "align_items": null,
            "align_self": null,
            "border_bottom": null,
            "border_left": null,
            "border_right": null,
            "border_top": null,
            "bottom": null,
            "display": null,
            "flex": null,
            "flex_flow": null,
            "grid_area": null,
            "grid_auto_columns": null,
            "grid_auto_flow": null,
            "grid_auto_rows": null,
            "grid_column": null,
            "grid_gap": null,
            "grid_row": null,
            "grid_template_areas": null,
            "grid_template_columns": null,
            "grid_template_rows": null,
            "height": null,
            "justify_content": null,
            "justify_items": null,
            "left": null,
            "margin": null,
            "max_height": null,
            "max_width": null,
            "min_height": null,
            "min_width": null,
            "object_fit": null,
            "object_position": null,
            "order": null,
            "overflow": null,
            "padding": null,
            "right": null,
            "top": null,
            "visibility": null,
            "width": null
          }
        },
        "2bc6f760522e47a88c49f6c4604988ce": {
          "model_module": "@jupyter-widgets/controls",
          "model_name": "HTMLStyleModel",
          "model_module_version": "2.0.0",
          "state": {
            "_model_module": "@jupyter-widgets/controls",
            "_model_module_version": "2.0.0",
            "_model_name": "HTMLStyleModel",
            "_view_count": null,
            "_view_module": "@jupyter-widgets/base",
            "_view_module_version": "2.0.0",
            "_view_name": "StyleView",
            "background": null,
            "description_width": "",
            "font_size": null,
            "text_color": null
          }
        },
        "2095f30f913c4d73b71b662b04e49434": {
          "model_module": "@jupyter-widgets/base",
          "model_name": "LayoutModel",
          "model_module_version": "2.0.0",
          "state": {
            "_model_module": "@jupyter-widgets/base",
            "_model_module_version": "2.0.0",
            "_model_name": "LayoutModel",
            "_view_count": null,
            "_view_module": "@jupyter-widgets/base",
            "_view_module_version": "2.0.0",
            "_view_name": "LayoutView",
            "align_content": null,
            "align_items": null,
            "align_self": null,
            "border_bottom": null,
            "border_left": null,
            "border_right": null,
            "border_top": null,
            "bottom": null,
            "display": null,
            "flex": null,
            "flex_flow": null,
            "grid_area": null,
            "grid_auto_columns": null,
            "grid_auto_flow": null,
            "grid_auto_rows": null,
            "grid_column": null,
            "grid_gap": null,
            "grid_row": null,
            "grid_template_areas": null,
            "grid_template_columns": null,
            "grid_template_rows": null,
            "height": null,
            "justify_content": null,
            "justify_items": null,
            "left": null,
            "margin": null,
            "max_height": null,
            "max_width": null,
            "min_height": null,
            "min_width": null,
            "object_fit": null,
            "object_position": null,
            "order": null,
            "overflow": null,
            "padding": null,
            "right": null,
            "top": null,
            "visibility": null,
            "width": null
          }
        },
        "dba356e1317c448bb1acaf9965220739": {
          "model_module": "@jupyter-widgets/controls",
          "model_name": "ProgressStyleModel",
          "model_module_version": "2.0.0",
          "state": {
            "_model_module": "@jupyter-widgets/controls",
            "_model_module_version": "2.0.0",
            "_model_name": "ProgressStyleModel",
            "_view_count": null,
            "_view_module": "@jupyter-widgets/base",
            "_view_module_version": "2.0.0",
            "_view_name": "StyleView",
            "bar_color": null,
            "description_width": ""
          }
        },
        "919444c9323e43f78205a96414ed01ac": {
          "model_module": "@jupyter-widgets/base",
          "model_name": "LayoutModel",
          "model_module_version": "2.0.0",
          "state": {
            "_model_module": "@jupyter-widgets/base",
            "_model_module_version": "2.0.0",
            "_model_name": "LayoutModel",
            "_view_count": null,
            "_view_module": "@jupyter-widgets/base",
            "_view_module_version": "2.0.0",
            "_view_name": "LayoutView",
            "align_content": null,
            "align_items": null,
            "align_self": null,
            "border_bottom": null,
            "border_left": null,
            "border_right": null,
            "border_top": null,
            "bottom": null,
            "display": null,
            "flex": null,
            "flex_flow": null,
            "grid_area": null,
            "grid_auto_columns": null,
            "grid_auto_flow": null,
            "grid_auto_rows": null,
            "grid_column": null,
            "grid_gap": null,
            "grid_row": null,
            "grid_template_areas": null,
            "grid_template_columns": null,
            "grid_template_rows": null,
            "height": null,
            "justify_content": null,
            "justify_items": null,
            "left": null,
            "margin": null,
            "max_height": null,
            "max_width": null,
            "min_height": null,
            "min_width": null,
            "object_fit": null,
            "object_position": null,
            "order": null,
            "overflow": null,
            "padding": null,
            "right": null,
            "top": null,
            "visibility": null,
            "width": null
          }
        },
        "09d295e7140845aebabe7c035e624e91": {
          "model_module": "@jupyter-widgets/controls",
          "model_name": "HTMLStyleModel",
          "model_module_version": "2.0.0",
          "state": {
            "_model_module": "@jupyter-widgets/controls",
            "_model_module_version": "2.0.0",
            "_model_name": "HTMLStyleModel",
            "_view_count": null,
            "_view_module": "@jupyter-widgets/base",
            "_view_module_version": "2.0.0",
            "_view_name": "StyleView",
            "background": null,
            "description_width": "",
            "font_size": null,
            "text_color": null
          }
        }
      }
    }
  },
  "nbformat": 4,
  "nbformat_minor": 0
}